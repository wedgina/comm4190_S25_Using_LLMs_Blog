{
 "cells": [
  {
   "cell_type": "markdown",
   "id": "aa7a82de-13e2-4180-b315-98680abb6920",
   "metadata": {},
   "source": [
    "---\n",
    "title: \"Using Dream Interpreter for the First Time\"\n",
    "description: \"Giving dream interpreter AI dreams to interpret\"\n",
    "author: \"Wedgina Norelus\"\n",
    "date: \"3/1/2025\"\n",
    "categories:\n",
    "  - Dreams\n",
    "---"
   ]
  },
  {
   "cell_type": "markdown",
   "id": "05ac7038-b795-41ca-b16c-229666a1fb75",
   "metadata": {},
   "source": [
    "# Using Dream Interpreter AI On Dreams"
   ]
  },
  {
   "cell_type": "markdown",
   "id": "c67d86dc-0d1b-414d-864a-2743677dc920",
   "metadata": {},
   "source": [
    "<img src=\"img/dream.jpeg\" width=\"600px\">"
   ]
  },
  {
   "cell_type": "markdown",
   "id": "755bf070-a4bd-416d-991f-d63387939393",
   "metadata": {},
   "source": [
    "I looked up ideas for AI to try out because I was getting bored with the common ones to be honest. I seen dream interpreter AI and decided to try it to see what it would say about what dreams mean because I feel like that stuff can be very subjective. I had no expectations for how it would go. Well here we go. "
   ]
  },
  {
   "cell_type": "markdown",
   "id": "97f06f8a-5f0e-41ec-abf5-ed1ec8f71474",
   "metadata": {},
   "source": [
    "**The dream I passed through first was pretty boring but hey it happened.**"
   ]
  },
  {
   "cell_type": "markdown",
   "id": "5055a546-ef9f-4f13-9ec6-2d7937f7fe5b",
   "metadata": {},
   "source": [
    "I was with a group of friends at my university. There was someone there I've known before but in real life she doesn't go to my school. It was suddenly graduation day. She was going to drive us to the graduation until I realized I couldn't find my bag. I had just had it. I assumed it had been in the car but who had placed it there? Most people were already sat in the car. I didn't want to bother people to figure out who saw or sat on it."
   ]
  },
  {
   "cell_type": "markdown",
   "id": "503a88c7-08a2-4eba-8cfa-404b3ea55b2e",
   "metadata": {},
   "source": [
    "> Dreams often mirror our subconscious thoughts, emotions, and experiences. Your dream contains several key elements that warrant interpretation.\n",
    ">\n",
    "> **University Setting:**\n",
    ">\n",
    "> The fact that you are at your university indicates a focus on personal growth, education, and social connections. It symbolizes a significant phase in your life where you are shaping your identity and future.\n",
    ">\n",
    "> **Friends Gathered for Graduation:**\n",
    ">\n",
    "> Friends in your dream suggest companionship and support. Graduation represents a transitional phase; it might symbolize a culmination of experiences or achievements in your life. It can also signify readiness to move forward into new opportunities or phases, not necessarily in an academic sense but in broader life contexts.\n",
    ">\n",
    "> **The Familiar Yet Out-of-Place Person:**\n",
    ">\n",
    ">  The presence of someone you’ve known before but doesn’t attend your school might imply unresolved feelings or unfinished business from your past. She could embody aspects of your past self, relationships, or experiences that you are either missing or trying to integrate into your current situation. This character might also represent qualities you admire or want to reconnect with.\n",
    ">\n",
    "> **The Bag:**\n",
    ">\n",
    "> The bag in your dream likely holds personal significance. Bags often symbolize our personal burdens, thoughts, and experiences. The fact that you can't find your bag might reflect feelings of loss or anxiety about losing something important in your life—your identity, resources, or connections. It also indicates a sense of urgency or pressure you might be experiencing as you approach significant life changes (like graduation).\n",
    ">\n",
    "> **The Dilemma of Not Wanting to Bother Others:**\n",
    "> \n",
    "> Your hesitation to ask your friends about the bag highlights feelings of self-consciousness or concern about imposing on others. This could suggest a broader discomfort with reaching out for help or fear of being a burden in your waking life, especially in crucial moments of transition.\n",
    ">\n",
    "> **Conclusion:**\n",
    ">\n",
    "> In summary, this dream appears to articulate concerns about change and connection. You may be facing a significant transition in your life, perhaps related to education, career, or relationships, and feeling a mix of anticipation and anxiety. The absence of your bag suggests you might feel unprepared or fear losing important aspects of yourself as you move forward. It could be beneficial to reflect on connections that matter to you and to embrace reaching out for support during times of uncertainty. Embracing these feelings could help you navigate your transitional phase with more confidence."
   ]
  },
  {
   "cell_type": "markdown",
   "id": "d98bde4c-fa1e-46ee-b094-521a26d9eff3",
   "metadata": {},
   "source": [
    "It mentions my readiness to move on to some new phase of my life, which is something I have always been excited for. I've always wished to be in my senior year and being able to move on to a career I would enjoy. I think the unfinished business with the person from my past is a possibility as well but they are still a person I've been in a gray area recently. I think the anxiety about finding my bag is somewhat relevant but it's not about losing things that are important in my life but uncertainty regarding what will happen in life after school. I feel like the thing it gets right on the nose is the part about my concerns of imposing on others. Anybody that knows me knows I never ask for favors or ask for help because I'm incapable of asking for help. \n",
    "\n",
    "**Critiques**\n",
    "\n",
    "I get that this dream interpreter is not really a therapist lol, but I find it interesting that it just only takes a dream. It's not really the type of LLM like ChatGPT where you can keep inputting more information for it to form a more accurate output. It takes the dream but doesn't really ask for more other types of information which I felt could've gave it a more accurate output. Like for instance I'm not sure it even knows or is sure that I am graduating this semester I had to clarify that myself, whereas a more sophisticated LLM would have probably taken that more into consideration before the interpetation. Also I think specifically to this scenario, it could have asked possibly follow up questions about what dreaming about graduation could mean to me. I feel like understanding why graduation is something that manifested into my dream from my regular life would have also been beneficial."
   ]
  },
  {
   "cell_type": "markdown",
   "id": "a52de63f-0c4a-4ea6-aa9c-d49994097e96",
   "metadata": {},
   "source": [
    "**This dream is not my own but rather one my partner had and I was curious what the AI would say about it.**"
   ]
  },
  {
   "cell_type": "markdown",
   "id": "b1f7f981-c30a-4fd5-bfe3-57ff73fa9e31",
   "metadata": {},
   "source": [
    "I moved into a house that was magical (or cursed depending on how you look at it). There was a girl that did something so now her spirit and body was trapped in the house and I was trying to help her escape back into reality. But the girl had the ability to affect objects in the physical world. There were also other people that had abilities too. I started to awaken some powers toward the end"
   ]
  },
  {
   "cell_type": "markdown",
   "id": "b38e83db-ba1a-4042-9a81-96934d18766e",
   "metadata": {},
   "source": [
    "> Dreams often serve as mirrors reflecting our subconscious thoughts, feelings, and experiences, and your dream about moving into a magical (or cursed) house is rich with symbolism and themes. Let's break it down step by step.\n",
    "> \n",
    "> **The House**\n",
    "> \n",
    "> In dreams, a house often symbolizes the self or the mind. Each room can represent different aspects of your personality or emotional state. A magical or cursed house suggests that you are exploring the duality of your own life circumstances – the struggle between feeling empowered and feeling trapped by your own fears or challenges. This could indicate that you are facing complex emotional issues or circumstances in your waking life that feel both enchanting and daunting.\n",
    ">\n",
    "> **The Girl**\n",
    "> \n",
    "> The girl in your dream represents a part of yourself that may feel trapped or constrained. She embodies the essence of being stuck between two worlds – the physical and the spiritual. Your desire to help her escape could reflect your wish to liberate aspects of yourself that you feel are confined by societal expectations or personal limitations. This character might also symbolize innocence, creativity, or potential that has not yet been fully realized.\n",
    "> \n",
    "> **The Spirit and Body Trap**\n",
    "> \n",
    "> The theme of entrapment is quite potent here. The girl's spirit being trapped could represent your fears of losing control or being confined by external circumstances. It could also signify overlooked talents or aspirations that are struggling to emerge. Your quest to help her escape may mirror your desire to break free from situations that limit you and to realize your full potential or inner strength.\n",
    ">\n",
    "> **The Abilities**\n",
    "> \n",
    "> The presence of other people with abilities highlights the concept of community and shared experiences. This might suggest that you are not alone in your struggles; others around you may also have unique gifts or burdens. The awakening of your own powers towards the end of the dream signifies personal growth and the realization of your strengths. This awakening could indicate that you are on the verge of harnessing your own capabilities, feeling more in tune with your intuition, creativity, or analytical skills.\n",
    ">\n",
    "> **Conclusion**\n",
    "> \n",
    "> This dream could be interpreted as a journey towards self-discovery and the quest for freedom from internal or external constraints. It reflects a powerful desire for growth, empowerment, and the exploration of hidden potentials within yourself. You might be at a pivotal point in your life where you are beginning to access deeper aspects of your personality, suggesting that you explore these newfound abilities and consider how they can help you in your waking life.\n",
    ">\n",
    "> In waking life, take this dream as encouragement to reflect upon any obstacles you may currently face and how you can engage with your hidden strengths to navigate through them. There is a powerful alchemy at work here, where the combination of your efforts and insights can lead to transformation and liberation."
   ]
  },
  {
   "cell_type": "code",
   "execution_count": null,
   "id": "3ab5a20a-8fe8-4fd2-a177-3619726b8c3e",
   "metadata": {},
   "outputs": [],
   "source": []
  }
 ],
 "metadata": {
  "kernelspec": {
   "display_name": "Python 3-12 (COMM4190)",
   "language": "python",
   "name": "python3-12_comm4190"
  },
  "language_info": {
   "codemirror_mode": {
    "name": "ipython",
    "version": 3
   },
   "file_extension": ".py",
   "mimetype": "text/x-python",
   "name": "python",
   "nbconvert_exporter": "python",
   "pygments_lexer": "ipython3",
   "version": "3.12.8"
  }
 },
 "nbformat": 4,
 "nbformat_minor": 5
}
