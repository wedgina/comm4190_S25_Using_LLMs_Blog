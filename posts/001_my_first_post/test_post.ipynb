{
 "cells": [
  {
   "cell_type": "raw",
   "id": "27352bfd-3a5a-43b2-ae85-a99bc59941be",
   "metadata": {},
   "source": [
    "---\n",
    "title: \"Can ChatGPT Logic Like We Do?\"\n",
    "description: \"Testing blogging\"\n",
    "author: \"Wedgina\"\n",
    "date: \"2/4/2025\"\n",
    "categories:\n",
    "  - LLMs\n",
    "---"
   ]
  },
  {
   "cell_type": "markdown",
   "id": "cc74aa56-9f7e-44fb-b4d9-e45f3377ae9c",
   "metadata": {},
   "source": [
    "# Can ChatGPT Logic Like We Do?"
   ]
  },
  {
   "cell_type": "markdown",
   "id": "4e6cd5e4-8db9-4d32-b927-307ca8d40764",
   "metadata": {},
   "source": [
    "some new content"
   ]
  },
  {
   "cell_type": "code",
   "execution_count": null,
   "id": "acf0c40b-1a2e-4969-ba1f-bfa96d0d63c2",
   "metadata": {},
   "outputs": [],
   "source": []
  }
 ],
 "metadata": {
  "kernelspec": {
   "display_name": "Python 3-12 (COMM4190)",
   "language": "python",
   "name": "python3-12_comm4190"
  },
  "language_info": {
   "codemirror_mode": {
    "name": "ipython",
    "version": 3
   },
   "file_extension": ".py",
   "mimetype": "text/x-python",
   "name": "python",
   "nbconvert_exporter": "python",
   "pygments_lexer": "ipython3",
   "version": "3.12.8"
  }
 },
 "nbformat": 4,
 "nbformat_minor": 5
}
