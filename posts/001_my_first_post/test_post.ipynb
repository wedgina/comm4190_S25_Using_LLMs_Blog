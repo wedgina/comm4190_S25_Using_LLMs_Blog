{
 "cells": [
  {
   "cell_type": "raw",
   "id": "27352bfd-3a5a-43b2-ae85-a99bc59941be",
   "metadata": {},
   "source": [
    "---\n",
    "title: \"My first post\"\n",
    "description: \"Testing blogging\"\n",
    "author: \"Wedgina\"\n",
    "date: \"2/4/2025\"\n",
    "categories:\n",
    "  - LLMs\n",
    "---"
   ]
  },
  {
   "cell_type": "markdown",
   "id": "cc74aa56-9f7e-44fb-b4d9-e45f3377ae9c",
   "metadata": {},
   "source": [
    "# A test post"
   ]
  },
  {
   "cell_type": "code",
   "execution_count": null,
   "id": "e7c28f62-04e5-4795-9bfc-6189a3d8f327",
   "metadata": {},
   "outputs": [],
   "source": []
  }
 ],
 "metadata": {
  "kernelspec": {
   "display_name": "Python 3-12 (COMM4190)",
   "language": "python",
   "name": "python3-12_comm4190"
  },
  "language_info": {
   "codemirror_mode": {
    "name": "ipython",
    "version": 3
   },
   "file_extension": ".py",
   "mimetype": "text/x-python",
   "name": "python",
   "nbconvert_exporter": "python",
   "pygments_lexer": "ipython3",
   "version": "3.12.8"
  }
 },
 "nbformat": 4,
 "nbformat_minor": 5
}
