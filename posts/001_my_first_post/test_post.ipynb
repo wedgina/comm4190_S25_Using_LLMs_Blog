{
 "cells": [
  {
   "cell_type": "raw",
   "id": "27352bfd-3a5a-43b2-ae85-a99bc59941be",
   "metadata": {},
   "source": [
    "---\n",
    "title: \"Can ChatGPT Logic Like We Do?\"\n",
    "description: \"Asking Chat GPT to Play Hangman\"\n",
    "author: \"Wedgina Norelus\"\n",
    "date: \"2/6/2025\"\n",
    "categories:\n",
    "  - LLMs\n",
    "  - Prompting\n",
    "  - Logic\n",
    "---"
   ]
  },
  {
   "cell_type": "markdown",
   "id": "cc74aa56-9f7e-44fb-b4d9-e45f3377ae9c",
   "metadata": {},
   "source": [
    "# Can ChatGPT Logic Like We Do?"
   ]
  },
  {
   "cell_type": "markdown",
   "id": "4e6cd5e4-8db9-4d32-b927-307ca8d40764",
   "metadata": {},
   "source": [
    "I asked ChatGPT to play Hangman with me to see if it can guess the word after very obvious priming prior"
   ]
  },
  {
   "cell_type": "markdown",
   "id": "1abe7662-ab63-4b63-a30b-07c8d80599ca",
   "metadata": {},
   "source": [
    "<img src=\"img/hangmanss.png\" width=\"600px\">"
   ]
  },
  {
   "cell_type": "markdown",
   "id": "78842245-82d6-4824-b192-74f7018ce74f",
   "metadata": {},
   "source": [
    "In class we discussed how Chat GPT models are always playing some type of guessing game where they are trying to predict what we are going to say or do next. "
   ]
  },
  {
   "cell_type": "markdown",
   "id": "dbec1d1a-4b50-4d80-8f28-805c7912bb6d",
   "metadata": {},
   "source": [
    "As a cog sci major, I have taken other courses where I have also learned about language prediction models, where words are each weighted with their own probabilities that represent how often they occur in the language, especially particularly after a previous word"
   ]
  },
  {
   "cell_type": "markdown",
   "id": "bb263a4f-ac5e-40f0-82d8-ad162b323bee",
   "metadata": {},
   "source": [
    "Recently I was curious in understanding if Chat GPT could really predict our langauge the way humans would predict language but in process that requires greater logic. The process I used is as follows: \n",
    "\n",
    "1. I asked for ChatGPT to generate an 8 letter word that would be used for us to play Hangman.\n",
    "\n",
    "<img src=\"img/Givemeword.png\" width=\"600px\">\n",
    "\n",
    "2. I passed the following prompt to invite Chat to play Hangman\n",
    "\n",
    " <img src=\"img/Askingtoplaygame.png\" width=\"600px\">\n",
    "\n",
    "3. I continue to play the game until Chat runs out of tries\n",
    "4. Reveal whether it guesses the word correctly or not"
   ]
  },
  {
   "cell_type": "markdown",
   "id": "efb31db1-f0c7-4ba8-9e4c-e81024d39bdb",
   "metadata": {},
   "source": [
    "I found that as I kept playing with Chat, it kept guessing for the word despite literally giving me a word before we had played the game. It ultimately never guessed the word properly within the allotted 6 tries. "
   ]
  },
  {
   "cell_type": "markdown",
   "id": "e1d9614a-59d0-446b-a658-7c1fc4702331",
   "metadata": {},
   "source": [
    "<img src=\"img/Tellingitanswer.png\" width=\"600px\">"
   ]
  },
  {
   "cell_type": "markdown",
   "id": "7b373432-37e4-40dd-b91f-d6c179d199f1",
   "metadata": {},
   "source": [
    "In fact, even when I tell it the word, it acts and appears as if it never gave me the word in the first place. "
   ]
  },
  {
   "cell_type": "markdown",
   "id": "6cda4014-426f-43d4-8fb8-68ac965941b2",
   "metadata": {},
   "source": [
    "When it comes to humans, if I had asked them to give me a word first and then made them be the ones to guess the word out of a sudden game of hangman, they would immediately suspect that the word they are trying to find is the one they literally just gave me. Even if they don't immediately guess the word on the first try, I would expect them to guess the correct letters immediately to ensure that the word they're guessing is the one they gave. "
   ]
  },
  {
   "cell_type": "markdown",
   "id": "ffbe2324-ea10-4342-97a1-ca7ac70e55eb",
   "metadata": {},
   "source": [
    "This is just how our logic is, and an AI model is not able to replicate this kind of common sense. "
   ]
  },
  {
   "cell_type": "code",
   "execution_count": null,
   "id": "7b837987-e353-4763-817d-2e7d79398582",
   "metadata": {},
   "outputs": [],
   "source": []
  },
  {
   "cell_type": "code",
   "execution_count": null,
   "id": "bed45883-8d31-4816-a7ec-dd3e1172461e",
   "metadata": {},
   "outputs": [],
   "source": []
  }
 ],
 "metadata": {
  "kernelspec": {
   "display_name": "Python 3-12 (COMM4190)",
   "language": "python",
   "name": "python3-12_comm4190"
  },
  "language_info": {
   "codemirror_mode": {
    "name": "ipython",
    "version": 3
   },
   "file_extension": ".py",
   "mimetype": "text/x-python",
   "name": "python",
   "nbconvert_exporter": "python",
   "pygments_lexer": "ipython3",
   "version": "3.12.8"
  }
 },
 "nbformat": 4,
 "nbformat_minor": 5
}
