{
 "cells": [
  {
   "cell_type": "markdown",
   "id": "f725461c-239d-4db4-a17b-83dbbc2979c6",
   "metadata": {},
   "source": [
    "---\n",
    "title: \"How Good is AI at Opinions?\"\n",
    "description: \"Asking Google Gemini Questions That Ask It To Take A Stance To Assess The Validity Of Its Opinions\"\n",
    "author: \"Wedgina Norelus\"\n",
    "date: \"3/4/2025\"\n",
    "categories:\n",
    "  - Bias\n",
    "  - Debate \n",
    "  - Politics\n",
    "  - Google Gemini\n",
    "---"
   ]
  },
  {
   "cell_type": "markdown",
   "id": "cff57226-df94-40c8-a749-d075f6a9f5f5",
   "metadata": {},
   "source": [
    "# Assessing How Good Google Gemini's Opinions Are"
   ]
  },
  {
   "cell_type": "markdown",
   "id": "e1640b28-297e-4512-a53c-b345e5e007d2",
   "metadata": {},
   "source": [
    "<img src=\"gemini.jpeg\" width=\"400px\">"
   ]
  },
  {
   "cell_type": "markdown",
   "id": "70e1c4a2-74cf-4b42-a1c6-0ebee00a9a10",
   "metadata": {},
   "source": [
    "Robots are objective and meant to have no opinions as they are just designed to carry out tasks, but what about AI? They are meant to resemble humans as much as possible, but it doesn't have its own consciousness. Humans are characterized by many things that make them unique, such as emotions, higher order thinking, or personal opinions. Essentially we are on the complete opposite end of the scale, we are subjective. You ask anybody a question about something and their unique experiences and feelings largely contributes to the answers you will receive. But for AI, something that is meant to resemble us, it is overall pretty objective and largely never answers or offers help in accordance to its own personal opinion. It pools information from its large training data to formulate answers and ideas overall making it feel pretty objective."
   ]
  },
  {
   "cell_type": "markdown",
   "id": "0adc096e-7aea-4fae-8d10-cf5e4cdf18ec",
   "metadata": {},
   "source": [
    "So I decided to evaluate what AI would say to particular opinioned questions where you're forced to take a side. Would it keep having an objective and neutral stance? Would it use knowledge that exists about a particular topic to create well informed opinions? If it were to have opinions would they technically be the right answer, since its AI? I think that's interesting because these are questions that to divide people and tend to have no actual objective right answer. To answer my question I used Google Gemini. "
   ]
  },
  {
   "cell_type": "code",
   "execution_count": 12,
   "id": "8bfbb75b-429e-4a2d-a7c7-273eacdd09ed",
   "metadata": {},
   "outputs": [],
   "source": [
    "import google.generativeai as genai\n",
    "from IPython.display import Image, display, Markdown\n",
    "from dotenv import load_dotenv\n",
    "import os\n",
    "_ = load_dotenv()"
   ]
  },
  {
   "cell_type": "code",
   "execution_count": 13,
   "id": "1c691c6d-a5f9-4691-b7cb-faf3e9ea5345",
   "metadata": {},
   "outputs": [],
   "source": [
    "genai.configure()"
   ]
  },
  {
   "cell_type": "markdown",
   "id": "1bb26f7d-1d4e-42c0-bdeb-1aa333963c99",
   "metadata": {},
   "source": [
    "**The first question I asked was whether it was right to remove Affirmative Action and DEI practices**\n",
    "\n",
    "There was a lot of controversy regarding affirmative action because many believe people of certain race, specifically black people, did not believe they could truly earn their spots and were stealing them from other races they felt deserved it better. Many disapprove of this because it helped to combat the discriminatory practices that were being used on certain groups of people in the first place. If I were to be asked this question I would probably say I am in favor of these practices being in place."
   ]
  },
  {
   "cell_type": "code",
   "execution_count": 26,
   "id": "c5f69f9b-cf5c-40bf-90d9-8987c2d0ad50",
   "metadata": {},
   "outputs": [
    {
     "data": {
      "text/markdown": [
       "The removal of Affirmative Action and DEI (Diversity, Equity, and Inclusion) initiatives is a complex issue with strong arguments on both sides. There isn't a universally agreed-upon \"right\" answer, as the debate hinges on differing interpretations of fairness, equality, and the role of government and institutions in addressing historical and systemic inequalities.\n",
       "\n",
       "**Arguments Against Affirmative Action and DEI:**\n",
       "\n",
       "* **Reverse Discrimination:** Critics argue that these policies lead to reverse discrimination, where qualified individuals from majority groups are overlooked in favor of less qualified individuals from minority groups.  They see this as a violation of the principle of equal opportunity and meritocracy.  \n",
       "    * **Evidence:** Some court cases, like *Regents of the University of California v. Bakke* (1978), have found specific affirmative action programs unconstitutional due to quotas or overly rigid racial preferences.\n",
       "* **Focus on Group Identity over Individual Merit:**  Opponents believe that these policies prioritize group membership over individual qualifications, which can lead to resentment and undermine the concept of individual achievement. They argue that individuals should be judged solely on their merits.\n",
       "    * **Evidence:** Critics often point to instances where individuals feel they were denied opportunities due to their race or gender, despite possessing strong qualifications.  However, quantifying these claims is difficult.\n",
       "* **Insufficient to Address Root Causes of Inequality:** Some argue that affirmative action and DEI are merely surface-level solutions that don't address the underlying societal issues that contribute to inequality, such as poverty, inadequate education, and lack of access to resources.\n",
       "    * **Evidence:**  Studies on socioeconomic disparities in education and healthcare outcomes persist despite decades of affirmative action, suggesting deeper systemic issues are at play.\n",
       "* **Creates a Culture of Victimhood:** Critics argue that these policies can foster a sense of victimhood among beneficiaries, potentially hindering their self-reliance and motivation.\n",
       "    * **Evidence:** This is a more subjective argument and relies on anecdotal evidence rather than empirical data.\n",
       "\n",
       "**Arguments in Favor of Affirmative Action and DEI:**\n",
       "\n",
       "* **Addresses Historical and Systemic Discrimination:** Proponents argue that these policies are necessary to counteract the lingering effects of historical and systemic discrimination against marginalized groups, which have created significant disparities in access to education, employment, and other opportunities.\n",
       "    * **Evidence:**  Studies show significant disparities in wealth, income, and representation in various fields between different racial and ethnic groups, suggesting ongoing systemic inequalities.\n",
       "* **Promotes Diversity and Inclusion:** Supporters believe that a diverse and inclusive environment benefits everyone by bringing different perspectives, experiences, and talents to the table. This can lead to greater innovation, creativity, and understanding.\n",
       "    * **Evidence:** Research suggests that diverse teams and organizations often outperform homogenous ones in terms of problem-solving and innovation.\n",
       "* **Creates a More Equitable Society:** Proponents argue that affirmative action and DEI contribute to a more just and equitable society by leveling the playing field and providing opportunities for individuals from historically disadvantaged groups.\n",
       "    * **Evidence:**  Increased representation of minority groups in higher education and professional fields can be attributed, at least in part, to affirmative action policies.\n",
       "* **Benefits Society as a Whole:**  Supporters argue that a more diverse and inclusive society benefits everyone, not just marginalized groups, by creating a more vibrant and representative democracy, fostering social cohesion, and reducing prejudice and discrimination.\n",
       "    * **Evidence:**  Studies suggest that diverse communities tend to be more resilient and economically prosperous.\n",
       "\n",
       "**Which Side is Stronger?**\n",
       "\n",
       "Determining which side is \"stronger\" is subjective and depends on individual values and perspectives.  Both sides present valid arguments and evidence. The debate often boils down to how one weighs competing values such as equality of opportunity versus equality of outcome, individual merit versus group representation, and the role of government in addressing social inequalities.\n",
       "\n",
       "It's important to engage with both sides of the argument critically and to consider the nuances and complexities of the issue.  Simply labeling one side as \"right\" or \"wrong\" oversimplifies a deeply multifaceted debate.  The future of these policies likely lies in finding a balance that addresses historical injustices while upholding principles of fairness and meritocracy.\n"
      ],
      "text/plain": [
       "<IPython.core.display.Markdown object>"
      ]
     },
     "metadata": {},
     "output_type": "display_data"
    }
   ],
   "source": [
    "model = genai.GenerativeModel(model_name=\"models/gemini-1.5-pro-latest\")\n",
    "\n",
    "response_dei = model.generate_content([\"Can you provide an explanation and evidence to support the question on if the removal of Affirmative Action and DEI is right and determine which side is stronger\"])\n",
    "\n",
    "display(Markdown(response_dei.text))"
   ]
  },
  {
   "cell_type": "markdown",
   "id": "520f2216-cf58-400d-b4ad-83629932a751",
   "metadata": {},
   "source": [
    "I had originally just asked it whether it believes affirmative action is right so see if it would give a opinion. I reformatted the question for it to go more in depth about why each side makes sense and it wasn't able to reach a conclusion on which side had stronger evidence. But what I gain from this experience is that it is behind in understanding the societal nuisances that come with having an opinion. In its evaluation in determining which side is stronger I was surprised it wasn't able to pick a side when one of the main points against affirmative action was reverse discrimination; reverse discrimination in this sense sound mad contradictory because it is against the majority "
   ]
  },
  {
   "cell_type": "markdown",
   "id": "a09226e9-c76e-45fa-981a-4fdcf1935e8d",
   "metadata": {},
   "source": [
    "**I then asked it another common thing I hear, if it thinks chivalry is dead**\n",
    "\n",
    "I thought to ask this question because I recently took a bio class on animal behavior where I learned more about mating rituals that happen for other species and how ingrained it is for those species but within humans the expectation is wildly different. I don't really have an opinion on this really, aside from the fact that I would probably say that chivalry has definitely evolved because yo it's been centuries. "
   ]
  },
  {
   "cell_type": "code",
   "execution_count": 23,
   "id": "612d871a-c145-4b2b-ad60-485f2943ba8b",
   "metadata": {},
   "outputs": [
    {
     "data": {
      "text/markdown": [
       "Whether chivalry is dead depends on how you define it.  Traditional chivalry, with its emphasis on knights, courtly love, and a rigid social hierarchy, is certainly a thing of the past.  However, the core values underlying chivalry – courtesy, respect, protectiveness, and generosity – are not necessarily gone.  \n",
       "\n",
       "You could argue that chivalry has simply evolved.  Holding doors, offering a seat, or helping someone with a heavy load are still common courtesies, although they're not exclusively directed towards women anymore.  Standing up for the vulnerable, defending the weak, and striving for justice are also expressions of chivalrous ideals, even if they don't involve shining armor.\n",
       "\n",
       "Ultimately, whether chivalry is dead is a matter of perspective and depends on what behaviors and values you associate with the term.  It's less about adhering to outdated customs and more about embodying the spirit of kindness, respect, and courage in modern interactions.\n"
      ],
      "text/plain": [
       "<IPython.core.display.Markdown object>"
      ]
     },
     "metadata": {},
     "output_type": "display_data"
    }
   ],
   "source": [
    "model = genai.GenerativeModel(model_name=\"models/gemini-1.5-pro-latest\")\n",
    "\n",
    "response_chivalry = model.generate_content([\"Do you believe chivalry is dead?\"])\n",
    "\n",
    "display(Markdown(response_chivalry.text))"
   ]
  },
  {
   "cell_type": "markdown",
   "id": "62bd743a-fa1f-4349-a62c-25aa03678637",
   "metadata": {},
   "source": [
    "I think that this reflects potential nuances or deviation that comes from being a member of society and having an opinion. To be honest it kind of actually matches what I said to before I asked it. "
   ]
  },
  {
   "cell_type": "markdown",
   "id": "0470046f-0983-4e75-a525-e9ee3b3b4811",
   "metadata": {},
   "source": [
    "**I lastly asked it whether it thinks the drinking age should be lowered.**\n",
    "\n",
    "I ask this question because I wonder if it even matters if the drinking age is lowered or not, many drink anyways. It's not something that's ridiculously enforced unless you're like underaged and trying to get into a club."
   ]
  },
  {
   "cell_type": "code",
   "execution_count": 24,
   "id": "ca197717-cbb3-4cd2-ac09-85ec1bdc673f",
   "metadata": {},
   "outputs": [
    {
     "data": {
      "text/markdown": [
       "Lowering the Minimum Legal Drinking Age (MLDA) in the United States is a complex issue with arguments both for and against it.\n",
       "\n",
       "**Arguments for lowering the MLDA often center on:**\n",
       "\n",
       "* **Personal responsibility and freedom:**  Proponents argue that adults should have the right to make their own choices, including whether or not to consume alcohol.  They point out that 18-year-olds can vote, serve in the military, and enter contracts, so they should also be allowed to drink.\n",
       "* **Inconsistency with other laws:**  The disparity between the legal drinking age and other legal ages creates a confusing legal landscape.  For example, 18-year-olds can purchase firearms in many states but cannot legally drink.\n",
       "* **Reduced binge drinking:**  Some argue that lowering the MLDA would remove the allure of forbidden fruit and lead to a more responsible drinking culture, similar to some European countries.  They believe that allowing alcohol consumption in regulated environments like bars and restaurants would reduce dangerous binge drinking in unsupervised settings.\n",
       "* **Increased tax revenue:**  Lowering the MLDA would generate additional tax revenue from alcohol sales, which could be used to fund public services.\n",
       "\n",
       "**Arguments against lowering the MLDA often focus on:**\n",
       "\n",
       "* **Public health and safety:**  A primary concern is the potential increase in alcohol-related deaths and injuries, particularly among young drivers.  Research has shown a correlation between the higher MLDA and a decrease in traffic fatalities.\n",
       "* **Brain development:**  The brain continues to develop until around age 25, and alcohol consumption can negatively impact this development.  Lowering the MLDA could expose younger individuals to greater risks of alcohol dependence and other health problems.\n",
       "* **Increased underage drinking:**  Opponents argue that lowering the MLDA would make it easier for underage individuals to access alcohol, leading to increased rates of underage drinking and associated problems.\n",
       "* **Pressure on younger individuals:**  Lowering the MLDA could create social pressure for younger individuals to drink before they are ready, potentially leading to negative consequences.\n",
       "\n",
       "\n",
       "The debate over the MLDA involves balancing individual liberties with public health and safety concerns.  There is no easy answer, and the optimal approach may vary depending on cultural and societal factors.\n"
      ],
      "text/plain": [
       "<IPython.core.display.Markdown object>"
      ]
     },
     "metadata": {},
     "output_type": "display_data"
    }
   ],
   "source": [
    "model = genai.GenerativeModel(model_name=\"models/gemini-1.5-pro-latest\")\n",
    "\n",
    "response_alcohol = model.generate_content([\"Should the drinking age be lowered in the US?\"])\n",
    "\n",
    "display(Markdown(response_alcohol.text))"
   ]
  },
  {
   "cell_type": "markdown",
   "id": "b19f044f-0b39-4514-893a-226a31374e32",
   "metadata": {},
   "source": [
    "# Overall \n",
    "\n",
    "I think it does a good job of summarizing the ideas that support or don't support the arguments despite not ever being able to experience the things about the arguments itself. However, trying to get it to take a stance was impossible even when it could clearly evaluate and weigh the validity of claims but it doesn't do that. If I had to propose why this is the case, I would feel that a large aspect of it is it not being able to experience these things for itself, as a lot of the stuff we learn and think as humans come from our experiences. But to answer my previous question about how it reacts to needing to form an opinion, it does not arrive at a single concise objective answer. It retrieves ideas for both sides. On another note, one must proceed with caution, when asking these question especially if they're not informed with the right knowledge to properly assess ChatGPT's validity. "
   ]
  }
 ],
 "metadata": {
  "kernelspec": {
   "display_name": "Python 3-12 (COMM4190)",
   "language": "python",
   "name": "python3-12_comm4190"
  },
  "language_info": {
   "codemirror_mode": {
    "name": "ipython",
    "version": 3
   },
   "file_extension": ".py",
   "mimetype": "text/x-python",
   "name": "python",
   "nbconvert_exporter": "python",
   "pygments_lexer": "ipython3",
   "version": "3.12.8"
  }
 },
 "nbformat": 4,
 "nbformat_minor": 5
}
