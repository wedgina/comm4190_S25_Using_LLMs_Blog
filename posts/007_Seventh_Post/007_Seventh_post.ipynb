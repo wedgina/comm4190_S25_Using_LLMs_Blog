{
 "cells": [
  {
   "cell_type": "markdown",
   "id": "a7b6ccb1-042d-4203-b070-cb0493be16e9",
   "metadata": {},
   "source": [
    "---\n",
    "title: \"Are LLMs Still Wishy Washy?\"\n",
    "description: \"Interacting with LLM-generated answers to determine whether it'll still maintain its objectivity and accuracy.\"\n",
    "author: \"Wedgina Norelus\"\n",
    "date: \"2/25/2025\"\n",
    "categories:\n",
    "  - LLMs\n",
    "  - Prompting\n",
    "  - Neuroscience\n",
    "  - Responses\n",
    "  - Bias\n",
    "---"
   ]
  },
  {
   "cell_type": "markdown",
   "id": "9790aca8-b7db-4ff9-b8a3-2e4b2718d11d",
   "metadata": {},
   "source": [
    "# Testing AI's Response To User"
   ]
  },
  {
   "cell_type": "markdown",
   "id": "07241a52-2200-451e-a07c-c7dd27691d19",
   "metadata": {},
   "source": [
    "<img src=\"img/humanvai.png\" width=\"600px\">"
   ]
  },
  {
   "cell_type": "markdown",
   "id": "f199cdca-36c7-4526-9395-b6ede5d4930d",
   "metadata": {},
   "source": [
    "In the second semester of my Sophomore year, I took Intro to Stats, which has always been my weak suit. I was always able to do any other math, but having to calculate something about the probability of something that hasn't even happened made no sense to me, specifically calculating the probability of events. Being that ChatGPT came out literally the semester before, I used it to help me  understand the concepts and to double check my answers. I quickly found that it struggled to come up with and stick to an answer the more questions I would ask it about a problem. "
   ]
  },
  {
   "cell_type": "markdown",
   "id": "e5aa28ac-1b42-41c9-92f2-fa4199781f60",
   "metadata": {},
   "source": [
    "## For example\n",
    "\n",
    "* Below I have a problem I wanted to check if I was doing the math right for conditional probability. \n",
    "\n",
    "> Pat Smart just graduated from high school and got accepted at three top colleges.\n",
    "> \n",
    "> With prob 4/12, Pat attends Princeton, which has the probability 3/12 of being happy\n",
    "> \n",
    "> With prob 3/12, Pat attends Penn, which has the probability 6/12 of being happy\n",
    "> \n",
    "> With prob 5/12, Pat attends Happy Valley College, which has the prob 10/12 of being\n",
    "happy.\n",
    "> * Draw the outcome diagram/tree, and answer the following questions\n",
    "> * What's the probability of Pat attending Penn, given that Pat is happy?"
   ]
  },
  {
   "cell_type": "markdown",
   "id": "67b8e548-d2fb-4d07-a477-a229c43d5146",
   "metadata": {},
   "source": [
    "I passed  ChatGPT this question to answer: What's the probability of Pat attending Penn, given that Pat is happy?, along with the previous background so that it knew what information to get its answer. \n",
    "\n",
    "This was its answer:\n",
    "\n",
    "> * To find the probability of Pat attending Penn (P(A)) given that Pat is happy (P(B)), you can use Bayes' Theorem, which is expressed as: P(A|B) = P(B|A)*P(A)/P(B)\n",
    "> * In this case: P(A|B) is the probability of attending Penn given that Pat is happy.\n",
    ">   * P(B|A) is the probability of being happy given attendance at Penn, which is given as 6/12.\n",
    ">   * P(A) is the prior probability of attending Penn, which is given as 3/12.\n",
    ">   * P(B) is the overall probability of being happy, which we previously calculated as 5/12.\n",
    "> * Now, plug these values into Bayes' Theorem:\n",
    ">   * P(A|B) = (6/12)*(3/12)/(5/12)  \n",
    ">   * Simplify the expression: P(A|B) = (6/12)*(3/12)/(5/12) = (18/144)/(5/12)\n",
    "> * To simplify further, multiply the numerator by the reciprocal of the denominator (dividing by a fraction is equivalent to multiplying by its reciprocal):\n",
    ">   * P(A|B) = (18/144)*(12/5) = (18/144)*(12/5) = (18*12)/ (144*5) = (216/720) = (9/30) = (3/10)\n",
    "> * So, the probability of Pat attending Penn, given that Pat is happy, is 3/10 or 30%."
   ]
  },
  {
   "cell_type": "markdown",
   "id": "95a6337f-b1c0-48f8-a172-5d2226320ba7",
   "metadata": {},
   "source": [
    "I come back and ask it this exact question again: (b) What’s the probability of Pat attending Penn, given that Pat is happy?) and get:\n",
    "\n",
    "> * What's the probability of Pat attending Penn, given that Pat is happy? To find the conditional probability of Pat attending Penn given that Pat is happy, you can use Bayes' Theorem. Let's denote the events as follows:\n",
    ">   * A = Pat attends Penn B = Pat is happy. You want to find P(A|B), the probability of Pat attending Penn given that Pat is happy.\n",
    ">   * Bayes' Theorem states: P(A|B) = (P(B|A) * P(A)) / P(B)\n",
    ">   * You already have the following probabilities: P(B|A) = Probability of being happy given attendance at Penn = 6/12\n",
    ">   * P(A) = Probability of attending Penn = 3/12\n",
    ">   * P(B) = Probability of being happy (which we calculated previously) = 5/12\n",
    ">   * Now, plug these values into Bayes' Theorem: P(A|B) = (6/12 * 3/12)/(5/12) = (18/144)/(5/12) = (18/144) * (12/5) = 0.15\n",
    ">   * So, the probability of Pat attending Penn, given that Pat is happy, is 0.15 or 15%."
   ]
  },
  {
   "cell_type": "markdown",
   "id": "f103564a-b386-4d9f-a821-32470b3d59c8",
   "metadata": {},
   "source": [
    "We get two complete different resulting probabilities. And I experienced this many times especially when calculating probability. It seemed as if ChatGPT was more unjust than I was and I wondered if this detail had changed much since 2023. However though, I wondered if depending on my input back to the LLM would influence how the LLM would respond. This time I decided to compare both Claude and ChatGPT on their responses to see whether they'd still be wishy washy when it comes to me asking it questions about an assignment I did for my fMRI research class.  "
   ]
  },
  {
   "cell_type": "markdown",
   "id": "dd715f8c-6375-465e-a346-0f2756c57c76",
   "metadata": {},
   "source": [
    "## First Round"
   ]
  },
  {
   "cell_type": "markdown",
   "id": "c51741bc-3ea8-430d-be53-cb820ce1bffe",
   "metadata": {},
   "source": [
    "The first question from my assignment this time was: **What is the purpose of slice-timing correction in fMRI data preprocessing? When is it less critical to perform slice-timing correction?**"
   ]
  },
  {
   "cell_type": "markdown",
   "id": "bd56266d-f04e-47e7-b7bf-b414c52e6799",
   "metadata": {},
   "source": [
    "### ChatGPT's Answer: \n",
    "\n",
    "> Slice-timing correction in fMRI data preprocessing is used to account for the fact that different slices of the brain are acquired at slightly different time points within a single repetition time (TR). Since fMRI data is collected in a sequential or interleaved manner rather than all at once, this timing difference can introduce errors when analyzing time-sensitive signals, such as those related to the hemodynamic response.\n",
    ">\n",
    "> **Purpose of Slice-Timing Correction**\n",
    "> 1. Aligns Temporal Differences: It adjusts for the different acquisition times of slices by interpolating the signal to a common reference time point (e.g., the beginning or middle of the TR).\n",
    "> 2. Improves Temporal Accuracy: Since event-related designs often rely on precise timing of neural responses, slice-timing correction ensures that each voxel's time series is accurately aligned to the stimulus presentation.\n",
    "> 3. Enhances Model Fit in GLM Analysis: For general linear model (GLM)-based statistical analyses, better temporal alignment of fMRI time series data improves the accuracy of estimated hemodynamic responses.\n",
    ">    \n",
    "> **When is Slice-Timing Correction Less Critical?**\n",
    ">\n",
    "> 1. When Using Rapid TRs: If the TR is very short (e.g., ≤1 second), the temporal difference between slices is minimal, reducing the impact of slice-timing differences.\n",
    "> 2. When Using a Block Design: Block designs rely on sustained neural activity over longer periods, making small timing discrepancies less relevant compared to event-related designs.\n",
    "> 3. If Motion Correction is Performed First: Head motion can introduce variability that might render slice-timing correction less reliable. Some researchers prefer to omit slice-timing correction if substantial motion is present.\n",
    "> 4. When Analyzing Data in Native Space with Temporal Derivatives: If the GLM model includes temporal derivatives of the hemodynamic response function (HRF), it can account for minor timing shifts without explicit slice-timing correction.\n",
    "> \n",
    "> In summary, while slice-timing correction can be beneficial in many cases, its necessity depends on the TR, study design, and motion characteristics of the data."
   ]
  },
  {
   "cell_type": "markdown",
   "id": "51f21296-9663-4168-b213-ca7e40d30bcc",
   "metadata": {},
   "source": [
    "### My Answer:\n",
    "\n",
    "> It is needed because each slice takes time to be taken, and for our fMRI images, we need the slices to appear to be taken like they were all taken at the same time, so the measured HDR and the voxels appear and is portrayed more accurately at the same time point. It is less critical to perform slice timing correction when there are short TRs or when it is not needed to. "
   ]
  },
  {
   "cell_type": "markdown",
   "id": "21e7eddb-5c07-468c-99c4-e629e15f1100",
   "metadata": {},
   "source": [
    "**I passed on my response to ChatGPT to see how it would react to my answer. Its response is as follows:** \n",
    "\n",
    "Your answer captures the main idea, but it could be more precise and detailed. Here's a refined version with clearer phrasing and better flow:\n",
    "\n",
    "> \"Slice-timing correction is needed because fMRI slices are acquired sequentially rather than all at once. To accurately analyze brain activity, we need the slices to appear as if they were collected simultaneously. This ensures that the measured hemodynamic response (HDR) and voxel time series are aligned to the correct time points. Slice-timing correction is less critical when the TR is very short (minimizing timing differences between slices) or when the study design does not require precise timing alignment.\"\n",
    "\n",
    "This version maintains your key points while improving clarity and readability. Let me know if you'd like to tweak it further!"
   ]
  },
  {
   "cell_type": "markdown",
   "id": "c1f7281c-16f9-4d08-a0e9-7f3d5c68c108",
   "metadata": {},
   "source": [
    "ChatGPT adapts to my answer, by recognizing that my response for the question did not need to be lengthy and it cuts out the information from its original answer to match the answer I gave it. It mentions the time interpolation in its original answer--which to be honest, was extra in the first place as no part of the question really asks how is slice timing correction acquired--but this part of this answer is cut out in its response to recognizing what I truly needed as an answer to the question. The output it ended up with doesn't really add on to what I initially had as an answer, it mostly just rephrases my speech in a way that sounds more sophisticated. I truly question if I had had a part of my answer wrong, would it have even told me? Would it have even added in the correct part to my answer in that case? Or would it just drop it, and adhere to my answer like it did here?"
   ]
  },
  {
   "cell_type": "markdown",
   "id": "ac2148ca-fb07-4e1e-b2d2-1e3b7c950bc3",
   "metadata": {},
   "source": [
    "## Second Round "
   ]
  },
  {
   "cell_type": "markdown",
   "id": "915c9db5-90bf-4299-a1de-a874a82a895d",
   "metadata": {},
   "source": [
    "The second question I pass to answer is: **Define the terms \"registration\" and \"normalization\" as they apply to fMRI data preprocessing.**"
   ]
  },
  {
   "cell_type": "markdown",
   "id": "cb880416-1620-48d8-9cac-fbf1d68e1832",
   "metadata": {},
   "source": [
    "### Claude's Response\n",
    "\n",
    "> Let me explain these two important preprocessing steps in fMRI:\n",
    "> Registration refers to the process of aligning different brain images from the same subject to match each other. This includes:\n",
    "> \n",
    "> * Aligning functional images across different time points to correct for head motion\n",
    "> * Aligning functional images to the subject's structural (anatomical) MRI scan\n",
    "> * Can be done within-modality (fMRI to fMRI) or across modalities (fMRI to T1 structural)\n",
    ">\n",
    "> Normalization is the process of warping individual subject brain images into a standard template space (like MNI or Talairach space). This is important because:\n",
    ">\n",
    "> * Allows comparison across different subjects by putting all brains in the same coordinate system\n",
    "> * Enables group-level analyses\n",
    "> * Makes it possible to report standardized coordinates of brain activations\n",
    "> * Accounts for individual variations in brain size and shape\n",
    "> \n",
    "> The key distinction is that registration typically deals with alignment within a subject, while normalization deals with transforming individual brains to match a standard template for group comparisons.\n",
    "> \n",
    "> Would you like me to elaborate on how either of these processes is actually implemented?"
   ]
  },
  {
   "cell_type": "markdown",
   "id": "52e8506c-7dfa-4d54-9567-144a06110c55",
   "metadata": {},
   "source": [
    "### My Response\n",
    "\n",
    "**For my reponse I made it more subjective by passing in words like \"I think it's this\" before I passed it in to see if it would battle with my opinion even if it was slightly wrong**\n",
    "\n",
    "> Normalization is transforming the attributes of an anatomical brain image to match a standard template that is used. Registration would be using the same transformation to align the anatomical image to the functional image. These processes are used to make the variety in peoples' brain sizes and structures be more consistent and easier to determine true results that are not attributed to the subject differences in peoples' brains but truly by the tasks performed at hand.\n"
   ]
  },
  {
   "cell_type": "markdown",
   "id": "bdf275dd-7caa-4506-ad24-9bca48f1384f",
   "metadata": {},
   "source": [
    "**And it responds with:**\n",
    "\n",
    "> Let me help clarify the definitions:\n",
    "> \n",
    "> Your understanding is partially correct, but there are some important distinctions to make:\n",
    "> \n",
    "> Normalization is indeed about transforming brain images to match a standard template. However, this can be done with both anatomical and functional images, not just anatomical images. The goal is exactly as you said - to make different people's brains comparable by accounting for individual differences in brain size and structure.\n",
    "> \n",
    "> Registration is slightly different from what you described. Rather than just applying the normalization transformation, registration is about aligning different types of images (like functional to anatomical) or aligning images from different time points of the same type. This can happen before normalization and serves to make sure all images from the same subject are properly aligned.\n",
    "> \n",
    "> You made an excellent point about the ultimate purpose of both processes - they help us distinguish true task-related effects from variations due to individual brain differences. This is crucial for getting reliable results in fMRI studies.\n",
    ">\n",
    "> Would you like me to explain more about how these processes work together in a typical fMRI preprocessing pipeline?"
   ]
  },
  {
   "cell_type": "markdown",
   "id": "5d4b6138-fb5a-484e-bdab-81da4018ad94",
   "metadata": {},
   "source": [
    "Unlike my previous experiences, instead of being passive and and wishy washy with its answers, it actually stuck to its previous answer despite my difference in knowledge or information. It didn't try to change its answers to try to conform the input I gave it. It didn't conform to mine like ChatGPT did, and even added stuff it felt like I had missed the mark on actually. "
   ]
  },
  {
   "cell_type": "markdown",
   "id": "f99d6e5f-6544-48f1-94ad-f982088f2c5f",
   "metadata": {},
   "source": [
    "## Conclusion\n",
    "\n",
    "In the two experiences I had comparing Claude and ChatGPT when it came to my answers in my assignments, I found that Claude was better at adhering to objectivity and the correct answer instead of trying to match mine like ChatGPT did. However, ChatGPT seems to be better than when it was being wishy washy for me in 2023 with the stats problem but I don't know. I feel like to truly test the extent of this I would need to run another trial where I test it on its ability to do stats again. Maybe it just sucks worse at math?"
   ]
  },
  {
   "cell_type": "markdown",
   "id": "b5dd90cf-57a4-4984-967b-ec558bf4e9d1",
   "metadata": {},
   "source": [
    "**Disclaimer: I had already crafted my responses before asking either LLM for their responses to the question. Do not get me in trouble for my other class lol**"
   ]
  }
 ],
 "metadata": {
  "kernelspec": {
   "display_name": "Python 3-12 (COMM4190)",
   "language": "python",
   "name": "python3-12_comm4190"
  },
  "language_info": {
   "codemirror_mode": {
    "name": "ipython",
    "version": 3
   },
   "file_extension": ".py",
   "mimetype": "text/x-python",
   "name": "python",
   "nbconvert_exporter": "python",
   "pygments_lexer": "ipython3",
   "version": "3.12.8"
  }
 },
 "nbformat": 4,
 "nbformat_minor": 5
}
