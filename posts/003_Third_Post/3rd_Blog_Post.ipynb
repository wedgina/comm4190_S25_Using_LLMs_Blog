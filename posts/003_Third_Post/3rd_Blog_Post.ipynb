{
 "cells": [
  {
   "cell_type": "markdown",
   "id": "41c689b8-3cb9-4077-b82b-5d43e4e94220",
   "metadata": {},
   "source": [
    "---\n",
    "title: How well can AI really know you?\n",
    "description: Determining whether ChatGPT can reason in regards to our personalities despite not having one of its own.\n",
    "author: \"Wedgina Norelus\"\n",
    "date: 2/15/2025\n",
    "categories:\n",
    "  - LLMs\n",
    "  - Prompting\n",
    "  - Personality\n",
    "  - Reason\n",
    "  - Cognition\n",
    "---"
   ]
  },
  {
   "cell_type": "markdown",
   "id": "ee34061a-cb22-4d60-81ea-5569ef4e9686",
   "metadata": {},
   "source": [
    "# How Well Can AI Really Know You?"
   ]
  },
  {
   "cell_type": "markdown",
   "id": "57a15234-c5b5-4031-9983-c7993f551cfc",
   "metadata": {},
   "source": [
    "<img src=\"img/TheNeuron.png\" width=\"400px\">"
   ]
  },
  {
   "cell_type": "markdown",
   "id": "c0643f2a-e36d-4922-a6b9-e62c8108969c",
   "metadata": {},
   "source": [
    "Routinely, it is us that is asking the questions or giving statements to LLMs/AI models. We obviously know we're not talking to a person when we do this, it feels like we are talking to a robot, which we essentially are. Despite being an AI model made to represent humankind as best as is possible right now, there are many things that it will probably never have, like a personality. We are unique in that way, our personalities develop and change over time, but in addition, we also use our  logic specifically unique to us, to reason and come to generalizations regarding people's personalities beyond us. Knowing this, I had the question on whether these AI models could really reason about who it thinks I truly am, despite not having a personality of its own. Would this mean for this to work, that AI could understand personality or what it is? "
   ]
  },
  {
   "cell_type": "markdown",
   "id": "f649b1cc-7b92-45ba-ab45-e59a43193067",
   "metadata": {},
   "source": [
    "I seriously doubted that it could because being able to reason about people's personalities and coordinate that with other knowledge you may or may not have on them is socially acquired. I've had experiences asking ChatGPT to reason with me in a previous post and found that it failed the task I asked of it to do. Or even, like when you ask it to recall or do something with an image it just generated, it won't have the ability to be recognizing what the heck it even generated. But like, I knew that it updates its memory, but I was never really aware as to how frequently it occurs or how powerful its memory could be. It was definitely something I had no faith in due to those previous instances. I decided to see what the heck would happen if I tested to see if ChatGPT could reason about us and our personalities. I asked it questions about me, but found its response to two of my questions very interesting."
   ]
  },
  {
   "cell_type": "markdown",
   "id": "f43cf267-c422-405c-9772-935186057bc7",
   "metadata": {},
   "source": [
    "## Question 1: "
   ]
  },
  {
   "cell_type": "markdown",
   "id": "a517bf53-07d8-4ca0-ba69-7d0d637b4dd7",
   "metadata": {},
   "source": [
    "**I asked it exactly \"What exactly do you have in your memory?\"**"
   ]
  },
  {
   "cell_type": "markdown",
   "id": "11e5d560-8f96-49ca-910e-6ac9d94675f9",
   "metadata": {},
   "source": [
    "## Response"
   ]
  },
  {
   "cell_type": "markdown",
   "id": "06e35709-9e73-4796-a22f-8b3f7acf843a",
   "metadata": {},
   "source": [
    "I remember details about your academic interests, research projects, career goals, and some personal preferences. Here's a summary of what I have:\n",
    "\n",
    "> **Academics & Research:**\n",
    "> \n",
    "> * You’re interested in neuroscience, cognitive science, and data analysis.  \n",
    "> * You’re minoring in data science and analytics at UPenn.  \n",
    "> * You’ve worked on projects related to neuroscience communication, memory, antisocial behavior, and parenting styles.  \n",
    "> * You’re currently in a class that teaches fMRI analysis using AFNI.  \n",
    "> * You’re considering a certification to become an MRI technician in the future.\n",
    ">   \n",
    "> **Career & Skills:**\n",
    "> \n",
    "> * You’re an upcoming 2025 graduate seeking a job in computational data analysis, ideally in a clinical or hospital setting.  \n",
    "> * You have experience in clinical operations and research trials.  \n",
    "> * You have strong skills in R and statistical analysis, with some experience in MATLAB and Python.  \n",
    "> * You have an interview for a research assistant position at the Martinos Center for Biomedical Imaging.\n",
    "> \n",
    "> **Projects & Interests:**\n",
    "> \n",
    "> * You’re working on an R project analyzing TikTok’s influence on Spotify’s top songs.  \n",
    "> * You’re considering a project analyzing trauma center quality and crime/gun violence.  \n",
    "> * You’ve worked on stereograms and color perception experiments.  \n",
    "> * You’re writing a blog for a communications course where you explore AI’s perspective on topics of interest.\n",
    "> \n",
    "> **Other Personal Notes:**\n",
    "> \n",
    "> * You like protective styles but also enjoy wearing your hair out.  \n",
    "> * Your boyfriend is into photography.  \n",
    "> * You planned a creative 3D printer gift reveal. "
   ]
  },
  {
   "cell_type": "markdown",
   "id": "642f882b-58db-47ef-af7e-dfd49f26362e",
   "metadata": {},
   "source": [
    "## Fact Check: Is Chat Right??\n",
    "\n",
    "**Academics & Research**\n",
    "\n",
    "* True  \n",
    "* True  \n",
    "* True & False; Only actually worked on projects regarding antisocial behavior, and within neuroscience mostly, but the other topics are things I have asked it about before  \n",
    "* True  \n",
    "* True  \n",
    "\n",
    "**Career & Skills**\n",
    "\n",
    "* Mostly True; interested in a job in computational neuroscience  \n",
    "* True  \n",
    "* True  \n",
    "* True  \n",
    "\n",
    "**Projects & Interests**\n",
    "\n",
    "* True  \n",
    "* True; Doing this for my class on Databases  \n",
    "* False; But I did learn about it in Perception class last semester  \n",
    "* True  \n",
    "\n",
    "**Other Personal Notes**\n",
    "\n",
    "* True  \n",
    "* True  \n",
    "* True  "
   ]
  },
  {
   "cell_type": "markdown",
   "id": "272a6a60-973b-4bf2-a693-bf82a717fd2a",
   "metadata": {},
   "source": [
    "## Reflection\n",
    "\n",
    "To be quite honest, most of the stuff on here comes from stuff I've asked or told it only recently, like within the past four months. Not sure what its policies on memory updating and storage are but I expected it to have more knowledge on me considering I've been using it since 2023 and before I was in the field of cognitive science, but it only \"remembers\" things in relation to me since I've been in cognitive science.\n",
    "\n",
    "**Its Difference From Humans**\n",
    "\n",
    "As I've mentioned previously, we are social animals, and acquire our knowledge of reason and logic about others in a unique way. It's something we've been doing since we were little. So I definitely noticed that as part of its memory it doesn't reason or make educated inferences despite having that much knowledge on me. For example for what I am talking about, if you ask someone to give you a summary or ask them to describe a person--usually someone they are closer to, there is some type of personal reasoning included in addition to the knowledge that they have about them, which varies based on what is important to that person. But like if it were someone close to me I would expect for them to be more adjectival regarding my personality, or give information about me that's more sprawled out across more domains or time periods-not just from school me or from the last 3 months. Like there is a hint there of a personal connection because of the way we use reason, but the way Chat does it, it feel like it writing a report. "
   ]
  },
  {
   "cell_type": "markdown",
   "id": "20bca95c-7c93-4e76-bd10-f1b814b5dc71",
   "metadata": {},
   "source": [
    "## Question 2: "
   ]
  },
  {
   "cell_type": "markdown",
   "id": "5f147bf3-158b-4f9a-ab3f-0b828588fcb1",
   "metadata": {},
   "source": [
    "**I asked it exactly \"What do you know about my personality?\"**"
   ]
  },
  {
   "cell_type": "markdown",
   "id": "4f4274e2-bbe7-4dd0-9e51-ce89cc13faea",
   "metadata": {},
   "source": [
    "## Response"
   ]
  },
  {
   "cell_type": "markdown",
   "id": "308622de-b2e8-4446-860c-7cc23988db20",
   "metadata": {},
   "source": [
    "> From our conversations, I’ve gathered a few insights about your personality:  \n",
    ">\n",
    "> **Curious & Analytical:**\n",
    ">  \n",
    "> * You enjoy exploring complex topics, especially in neuroscience, cognition, and data analysis.  \n",
    "> * You like thinking critically about theories and real-world applications.\n",
    ">   \n",
    "> **Detail-Oriented & Research-Driven:**\n",
    ">     \n",
    "> * You prefer working with data, conducting thorough analyses, and structuring your arguments based on evidence.  \n",
    "> * Your projects, like analyzing TikTok’s influence on Spotify and studying trauma center quality, reflect a strong research mindset.\n",
    ">    \n",
    "> **Creative & Thoughtful:**\n",
    ">   \n",
    "> * You come up with unique ideas, such as the creative 3D printer gift reveal.  \n",
    "> * You also explore new ways to communicate scientific ideas, like your neuroscience podcast and AI blog project.\n",
    ">     \n",
    "> **Independent & Goal-Oriented:**\n",
    ">   \n",
    "> * You’re proactive about your career, actively looking for research opportunities and internships while considering long-term plans like MRI certification.\n",
    ">\n",
    "> **Hands-On Learner:**\n",
    "> \n",
    "> * You prefer learning through examples and practical applications rather than just theory.\n",
    ">     \n",
    "> **Balanced & Open-Minded:**\n",
    "> \n",
    "> * You have a mix of scientific rigor and an appreciation for human experiences, such as your interest in parenting styles and criminal behavior in relation to free will.  \n"
   ]
  },
  {
   "cell_type": "markdown",
   "id": "82ef40ea-2ce4-45dc-956e-9210b13a7773",
   "metadata": {},
   "source": [
    "## Do I agree with these about myself?\n",
    "\n",
    "**Curious & Analytical**\n",
    "\n",
    "* False & True; I'm not that curious tbh but definitely analytical. I've always enjoyed the analysis side of things\n",
    "\n",
    "**Detail Oriented & Research Drive**\n",
    "\n",
    "* Mostly True; I enjoy working with data alot, I am majoring in cognitive science and minoring in data science and analytics, both very data driven fields.\n",
    "\n",
    "**Creative & Thoughtful**\n",
    "\n",
    "* False & True; I've never really been someone I consider being creative, I literally procrastinated on this blog because I struggled to come up with anything creative enough lol.\n",
    "* But I do consider myself thoughtful and have been described as a considerate person\n",
    "\n",
    "**Independent & Goal Oriented**\n",
    "\n",
    "* True. I grew up the first born/daughter in an immigrant household so I've always been a self starter and proactive because I learned from a very young age that really most of the time there isn't going to be someone to help you. \n",
    "\n",
    "**Hands-On Learner**\n",
    "\n",
    "* Very True; For a long time I thought I was a visual learner, but I absolutely hate when someone is trying to teach me something without providing any examples or without letting me try to do what I'm learning on my own.\n",
    "\n",
    "**Balanced & Open-Minded**\n",
    "\n",
    "* Neither; I don't really feel like this reflects me, but I believe this comes as a result as Chat GPT trying to reason with who it thinks I am. As a Cognitive Science major, my field is very interdisciplinary, as it is literally composed of 6 differents fields masked into one. And two of them are Neurosciecnce-where I've learned about criminal behavior and Philosophy-where I had to reflect on free will. I'm sure GPT remembered the questions I asked it during those times I was taking those classes, and assumed that due to the range in questions academically that I'm balanced. "
   ]
  },
  {
   "cell_type": "markdown",
   "id": "049c6cd6-9b9c-4923-b28f-26ba53874443",
   "metadata": {},
   "source": [
    "## Reflection \n",
    "\n",
    "Considering that it kind of missed the mark on the first question in relation to details about who I am and my personality, I prompted it specifically about my personality. And it can for sure use the knowledge it \"remembers\" about me to reason about the type of person it thinks I am, but I find it interesting that within its memory, it doesn't have these traits or this reasoning relationship as part of its memory, which I find to be different from humans. At least within my memory of a person, I will remember things like, oh this person is innovative or random or annoying--in addition to the objective things I know about them as well. That kind of reasoning goes hand in hand with memory and perception of others (and their personality). "
   ]
  },
  {
   "cell_type": "markdown",
   "id": "72ad8d8f-97e8-4ebe-8e5e-97f207275f64",
   "metadata": {},
   "source": [
    "# Conclusion\n",
    "\n",
    "Anywho, I feel like I further understand that ChatGPT is not really there to be your friend lol but then again it makes sense considering all I've ever heard it be described or marketed as, is to be your personal assistant. All in all, it's just there to do its job. While I did find it kind of somewhat impressive on what it \"thinks\" about me (as it is usually interesting to ask anybody anything about what they know about you), our personalities and our reasoning regarding other people is unique to us, and is not able to be replicated by ChatGPT. It was just interesting to think about how it would try to do these tasks I asked of it considering it doesn't even have its own personality."
   ]
  }
 ],
 "metadata": {
  "kernelspec": {
   "display_name": "Python 3-12 (COMM4190)",
   "language": "python",
   "name": "python3-12_comm4190"
  },
  "language_info": {
   "codemirror_mode": {
    "name": "ipython",
    "version": 3
   },
   "file_extension": ".py",
   "mimetype": "text/x-python",
   "name": "python",
   "nbconvert_exporter": "python",
   "pygments_lexer": "ipython3",
   "version": "3.12.8"
  }
 },
 "nbformat": 4,
 "nbformat_minor": 5
}
