{
 "cells": [
  {
   "cell_type": "raw",
   "id": "0129bda4-f00e-4d5b-ac09-36f8c0ff9b8f",
   "metadata": {},
   "source": [
    "---\n",
    "title: Testing AI on Illusions\n",
    "description: Illusions get us because of our constructed perceptions, but what will AI models see since it doesn't have perception?\n",
    "author: \"Wedgina Norelus\"\n",
    "date: 2/15/2025\n",
    "categories:\n",
    "  - LLMs\n",
    "  - Perception\n",
    "  - Illusions\n",
    "  - Perplexity\n",
    "---"
   ]
  },
  {
   "cell_type": "markdown",
   "id": "0afd98b2-c733-4897-83fd-e1f87b97de97",
   "metadata": {},
   "source": [
    "# How Will AI Think Through Illusions?"
   ]
  },
  {
   "cell_type": "markdown",
   "id": "4269c0e6-ace0-4505-af34-cb635f4e4350",
   "metadata": {},
   "source": [
    "<img src=\"img/PerplexityVChat.png\" width=\"600px\">"
   ]
  },
  {
   "cell_type": "markdown",
   "id": "fc43906c-8825-4171-9fbc-e7eefa146db7",
   "metadata": {},
   "source": [
    "Illusions are cool but they work because our unique ability to have perception. Two things compose perception, a distal stimulus and a proximal stimulus. A distal stimulus is the accurate representation of how a stimulus truly exists in the real world and a proximal stimulus is the way it is perceived back to us or what it appears like. An example to demonstrate this is seeing something further in the distance. If something is in the distance, it is going to appear smaller than if it were to be right in front of me. That is the proximal stimulus--the way the object reflects as a smaller image on our retina. In reality just because the object appears smaller, it's not actually smaller. In the real world accurate representation, the distal stimulus would be the actual size of the object. "
   ]
  },
  {
   "cell_type": "markdown",
   "id": "00c6afbf-6a57-4094-8a4e-713410057195",
   "metadata": {},
   "source": [
    "The constructivist approach is as follows:\n",
    "\n",
    "> Constructivism is based on the idea that people actively construct or make their own knowledge, and that reality is determined by your experiences as a learner.\n",
    ">\n",
    "> What is constructivism?. Western Governors University. (2020, May 27). https://www.wgu.edu/blog/what-constructivism2005.html\n",
    ">\n",
    "\n",
    "I say perception is something that is just uniquely tied to us because throughout our lives we understand and are able to come to our own conclusions about the world because of our previous experiences. With the example I presented before, we have size constancy because we've had previous experiences since we were young, accummulating cues telling us about distance, size, and depth. Like if we grew up having no size constancy--perceiving that an object is the same size both near us and from further into the distance, than we wouldn't have the cues that tell us a lot of information about how far something is. So yes our perception is something that is uniquely used and adaptive by us. "
   ]
  },
  {
   "cell_type": "markdown",
   "id": "f0ee4cf4-2190-4dba-9061-1e1625ae133a",
   "metadata": {},
   "source": [
    "I wouldn't expect for an AI model to get it the same way we do, because it doesn't have experiences, it doesn't learn these things socially, and it is just fed information upon training. It doesn't have things like a retina, odor receptors, etc, so there physically is not a way to construct a distal stimulus from the world onto our perceptive receptors. It's just using pixels. Since illusions work so well on us due to these attributes, I also wondered how would AI \"perceive\" these illusions in contrast to us, when it doesn't have perception of its own. (I feel like if I keep referring to AI as it, it's going to one day beat me up, idk man). So I used Perplexity and ChatGPT to interpret popular illusions--that divided many people on what they saw, to see if they could each come to some sort of a consensus. "
   ]
  },
  {
   "cell_type": "markdown",
   "id": "f8e038ba-0462-4cea-8fb4-89d2153039ae",
   "metadata": {},
   "source": [
    "**The first example of an illusion I passed was the infamous blue/black vs white/gold dress:** \n",
    "\n",
    "> <img src=\"img/blue&blackdress.jpeg\" width=\"300px\">\n",
    "\n",
    "The dress is actually blue and black, but I'm a part of the people who see this dress as white and gold. There's actually a trick if you do see this as white and gold and want to see it in its originality, try to cover the \"white\" parts of the dress and it will eventually come out to look bluish."
   ]
  },
  {
   "cell_type": "markdown",
   "id": "35fb171b-0784-4b50-95d2-0eb480238cd7",
   "metadata": {},
   "source": [
    "## Responses\n",
    "\n",
    "**ChatGPT's Response**\n",
    "\n",
    "> <img src=\"img/Chat'sBlueAndBlack.png\" width=\"600px\">"
   ]
  },
  {
   "cell_type": "markdown",
   "id": "c0c40186-901d-44e8-80df-49c3090eceba",
   "metadata": {},
   "source": [
    "**Perplexity's Response**\n",
    "\n",
    "> <img src=\"img/PerplexityBlacknBlueDress.png\" width=\"600px\">"
   ]
  },
  {
   "cell_type": "markdown",
   "id": "f45751b6-8ecb-48e1-ba65-fa123776921a",
   "metadata": {},
   "source": [
    "**The second example of an illusion I passed was another color illusion, the Pink/white vans vs the gray/light blue vans**\n",
    "\n",
    "> <img src=\"img/GrayAndBlue.png\" width=\"300px\">\n",
    "\n",
    "The shoes are actually pink and white, but I actually see these shoes as Grey and Blue as with many other people who are also split on this"
   ]
  },
  {
   "cell_type": "markdown",
   "id": "82b6d512-72bb-4c50-8aed-6b7c0b8cf937",
   "metadata": {},
   "source": [
    "## Responses\n",
    "\n",
    "**ChatGPT's Response**\n",
    "\n",
    "> <img src=\"img/ChatGray&Blue.png\" width=\"600px\">"
   ]
  },
  {
   "cell_type": "markdown",
   "id": "68158a00-aa4c-4454-bd7f-5acec7bec264",
   "metadata": {},
   "source": [
    "**Perplexity's Response**\n",
    "\n",
    "> <img src=\"img/PerplexityGrey&Blue.png\" width=\"600px\">"
   ]
  },
  {
   "cell_type": "markdown",
   "id": "b6cb63ec-8dd3-4a1d-88e1-5050fdcc033c",
   "metadata": {},
   "source": [
    "**The last example of an illusion I passed was whether those can see an image of a vase first or a two black faces looking at each other first**\n",
    "\n",
    "The last two images I passed had to do with color, I wondered what the AI models would \"think\" when it comes to what image it would perceive first.\n",
    "\n",
    "> <img src=\"img/VaseFace.png\" width=\"300px\">"
   ]
  },
  {
   "cell_type": "markdown",
   "id": "af4a27c2-2f64-480b-85c0-97af5854999a",
   "metadata": {},
   "source": [
    "Whatever is perceived first can vary from person to person. I personally see both the vase and the two faces, like I am unable to separate the two and see one without the other. "
   ]
  },
  {
   "cell_type": "markdown",
   "id": "e2739b92-fa7a-48c8-a712-ff7fdadd8b8a",
   "metadata": {},
   "source": [
    "## Responses\n",
    "\n",
    "**ChatGPT's Response**\n",
    "\n",
    "> <img src=\"img/ChatVaseFace.png\" width=\"600px\">"
   ]
  },
  {
   "cell_type": "markdown",
   "id": "14f031f7-1360-421a-b103-3e5f3d73fa85",
   "metadata": {},
   "source": [
    "**Perplexity's Response**\n",
    "\n",
    "> <img src=\"img/PerplexityVaseFace.png\" width=\"600px\">"
   ]
  },
  {
   "cell_type": "markdown",
   "id": "5fc826b6-68b4-4480-8e92-81d233cb5c15",
   "metadata": {},
   "source": [
    "# Interpretation"
   ]
  },
  {
   "cell_type": "markdown",
   "id": "b7197cbd-b414-4e69-854c-38f9af312907",
   "metadata": {},
   "source": [
    "In all of the cases I present about illusions to the AI models, I found ChatGPT was a lot more objective and completely told me what the image actually instead of just telling me the illusory component. It also explained the reason for why this illusion works on people, but obvious that that illusion was never going to work on it. Perplexity was not as detailed in showing how unfooled it was by the illusion. It even used words like \"I see\" (this color) in multiple instances. It was a lot more subjective. Despite how perceptive it sounded, it still delivered exactly what I expected it to, which was exactly what the \"correct\" answers were for the illusion. Because all they are trained on is pixels and they can't actually have perception, it was not surprising that it took the stimuli and reported back exactly what the image actually is aside from the illusion."
   ]
  }
 ],
 "metadata": {
  "kernelspec": {
   "display_name": "Python 3-12 (COMM4190)",
   "language": "python",
   "name": "python3-12_comm4190"
  },
  "language_info": {
   "codemirror_mode": {
    "name": "ipython",
    "version": 3
   },
   "file_extension": ".py",
   "mimetype": "text/x-python",
   "name": "python",
   "nbconvert_exporter": "python",
   "pygments_lexer": "ipython3",
   "version": "3.12.8"
  }
 },
 "nbformat": 4,
 "nbformat_minor": 5
}
