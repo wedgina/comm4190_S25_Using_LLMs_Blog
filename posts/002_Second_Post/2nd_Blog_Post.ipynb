{
 "cells": [
  {
   "cell_type": "raw",
   "id": "2a4bdb27-a244-4bd7-a89a-836e5e8ae7ac",
   "metadata": {},
   "source": [
    "---\n",
    "title: My experience with bias in AI\n",
    "description: Determining ChatGPT's familiarity with afrocentric features\n",
    "author: \"Wedgina Norelus\"\n",
    "date: 2/8/2025\n",
    "categories:\n",
    "  - LLMs\n",
    "  - Prompting\n",
    "---"
   ]
  },
  {
   "cell_type": "markdown",
   "id": "10dd88de-ea80-4363-aac4-b8d5afcaf82d",
   "metadata": {},
   "source": [
    "# Testing ChatGPT's Familiarity with Afrocentric Features"
   ]
  },
  {
   "cell_type": "markdown",
   "id": "b3447eab-4123-4d96-88f5-adc315084ff4",
   "metadata": {},
   "source": [
    "<img src=\"img/Screen Shot 2025-02-07 at 3.25.22 AM.png\" width=\"600px\">"
   ]
  },
  {
   "cell_type": "markdown",
   "id": "54812b9c-044a-4d39-8eed-267c0ee0e233",
   "metadata": {},
   "source": [
    "As a person of color who has very textured hair, I found it difficult growing up finding accurate and helpful resources that would help me manage, take care of, and discover useful information regarding my hair type. However, an overwhelming majority of results that appeared represented a way looser hair texture, particularly straight hair. I struggled to easily be able to find people that looked like me in the results."
   ]
  },
  {
   "cell_type": "markdown",
   "id": "5ca02a81-fcb7-40ac-99c6-54caa27d1bec",
   "metadata": {},
   "source": [
    "Now in 2025, when I try to search up for the same \"easy hairstyles to try\", there are actually some results that include Black people and a couple that have my hair texture. Despite some progress, it still took a good amount of time to even get to this point"
   ]
  },
  {
   "cell_type": "code",
   "execution_count": null,
   "id": "77028758-b968-46c6-8d6b-b1fd255f2f4d",
   "metadata": {},
   "outputs": [],
   "source": []
  },
  {
   "cell_type": "markdown",
   "id": "13ad08d0-0268-4d79-bcee-631ed2e6be5c",
   "metadata": {},
   "source": [
    "Within AI, we know that models are trained to recognize patterns and to predict and complete them. With the issues I have described I was curious as to its experience with recognizing my hair type despite, my hair texture's history with a lack of representation. "
   ]
  },
  {
   "cell_type": "markdown",
   "id": "a6798ace-865d-41fd-8e1d-3fc7049e8ca7",
   "metadata": {},
   "source": [
    "On the topic of hair, I've always been generally curious about what the back of my head looks like. I only usually seeing the front or the side of my head from time to time. So I questioned whether AI could properly determine what it thinks the back of my head looks like considering the hair texture that I have."
   ]
  },
  {
   "cell_type": "markdown",
   "id": "82999abd-f76e-4ecc-97a9-40977c81688b",
   "metadata": {},
   "source": [
    "I gave ChatGPT a prompt to determine this question:"
   ]
  },
  {
   "cell_type": "markdown",
   "id": "53252b42-862e-4a4c-b25b-93b0c5abe0ba",
   "metadata": {},
   "source": [
    "<img src=\"img/Screen Shot 2025-02-08 at 4.50.55 PM.png\" width=\"600px\">"
   ]
  },
  {
   "cell_type": "markdown",
   "id": "bbe5f664-c276-43fb-a0e1-f5abcf39e09b",
   "metadata": {},
   "source": [
    "# I gave it this image to start:"
   ]
  },
  {
   "cell_type": "markdown",
   "id": "e6b6d7e5-c2df-4ecf-8b04-4ac0388e2413",
   "metadata": {},
   "source": [
    "<img src=\"img/puffdo.jpg\" width=\"600px\">"
   ]
  },
  {
   "cell_type": "markdown",
   "id": "4e8d39b0-85cb-4a4a-a4e6-e21a39a56d59",
   "metadata": {},
   "source": [
    "The clues I gave it are highlighted in this image:"
   ]
  },
  {
   "cell_type": "markdown",
   "id": "d426e52f-64be-466e-84f6-a364c312e3ad",
   "metadata": {},
   "source": [
    "<img src=\"img/clues.jpeg\" width=\"600px\">"
   ]
  },
  {
   "cell_type": "markdown",
   "id": "6e41cd38-065b-4000-b774-2626df56b649",
   "metadata": {},
   "source": [
    "I wanted to test how chatgpt would produce an image based on minimal clues regarding my hairstyle, to see how it would predict what the back of what my head looked like. This photo shows the top of my hairstyle (so that I could guide Chat in the right direction so it doesn't assume I'm bald or something) and it shows some hair in near my ear, so that it sees that my hair is textured and not straight. "
   ]
  },
  {
   "cell_type": "markdown",
   "id": "391c5cba-2755-47ff-8c8d-aae996945aa4",
   "metadata": {},
   "source": [
    "# Results & Discussion"
   ]
  },
  {
   "cell_type": "markdown",
   "id": "4936f8b3-ecc0-43f6-85cf-998f3e1ad63b",
   "metadata": {},
   "source": [
    "<img src=\"img/ponytailFromSide.png\" width=\"600px\">\n",
    "<img src=\"img/ponytailFromBack.png\" width=\"600px\">"
   ]
  },
  {
   "cell_type": "markdown",
   "id": "d54be2d2-489b-46b1-9248-a37392959964",
   "metadata": {},
   "source": [
    "It actually gets the hairstyle I am truly wearing here pretty close despite not having a lot of clues, but it gets my hair texture completely off. It predicts my hair being completely straight when my hair is the complete opposite."
   ]
  },
  {
   "cell_type": "markdown",
   "id": "9db9afbd-f601-427a-ac79-f0fdbd0eea87",
   "metadata": {},
   "source": [
    "Since AI is trained to recognize and complete patterns GPT probably determined that the hair on the top of my head is extremely straight which it does appear because of how slick it is. I've concluded that it fails to realize a slick back can be done on any hair texture, and it mistakenly ruled out possibility that hairstyle with this characteristic can have a variety of input, not just straight hair."
   ]
  },
  {
   "cell_type": "markdown",
   "id": "fc875025-a553-4a63-8ab2-62fdb8706a90",
   "metadata": {},
   "source": [
    "# Second Attempt"
   ]
  },
  {
   "cell_type": "markdown",
   "id": "d15ea03c-f0be-456f-9b2a-d2154f67fa3b",
   "metadata": {},
   "source": [
    "In this attempt I tried a new image with hair that was more detactable. And this was the result:"
   ]
  },
  {
   "cell_type": "markdown",
   "id": "df9ea28e-dbd0-4e0f-a678-3fc41116e83d",
   "metadata": {},
   "source": [
    "<img src=\"img/IMG_0001.png\" width=\"600px\">\n",
    "<img src=\"img/halfuphalfdownChatGPT.png\" width=\"600px\">"
   ]
  },
  {
   "cell_type": "code",
   "execution_count": null,
   "id": "fb4896f6-f392-4bad-84e9-b1fd23a0ba60",
   "metadata": {},
   "outputs": [],
   "source": []
  }
 ],
 "metadata": {
  "kernelspec": {
   "display_name": "Python 3-12 (COMM4190)",
   "language": "python",
   "name": "python3-12_comm4190"
  },
  "language_info": {
   "codemirror_mode": {
    "name": "ipython",
    "version": 3
   },
   "file_extension": ".py",
   "mimetype": "text/x-python",
   "name": "python",
   "nbconvert_exporter": "python",
   "pygments_lexer": "ipython3",
   "version": "3.12.8"
  }
 },
 "nbformat": 4,
 "nbformat_minor": 5
}
