{
 "cells": [
  {
   "cell_type": "raw",
   "id": "2a4bdb27-a244-4bd7-a89a-836e5e8ae7ac",
   "metadata": {},
   "source": [
    "---\n",
    "title: My experience with bias in AI\n",
    "description: Determining ChatGPT's familiarity with afrocentric features\n",
    "author: \"Wedgina Norelus\"\n",
    "date: 2/8/2025\n",
    "categories:\n",
    "  - LLMs\n",
    "  - Prompting\n",
    "---"
   ]
  },
  {
   "cell_type": "markdown",
   "id": "10dd88de-ea80-4363-aac4-b8d5afcaf82d",
   "metadata": {},
   "source": [
    "# Testing ChatGPT's Familiarity with Afrocentric Features"
   ]
  },
  {
   "cell_type": "markdown",
   "id": "b3447eab-4123-4d96-88f5-adc315084ff4",
   "metadata": {},
   "source": [
    "<img src=\"img/Screen Shot 2025-02-07 at 3.25.22 AM.png\" width=\"600px\">"
   ]
  },
  {
   "cell_type": "markdown",
   "id": "54812b9c-044a-4d39-8eed-267c0ee0e233",
   "metadata": {},
   "source": [
    "As a person of color who has very textured hair, I found it difficult growing up finding accurate and helpful resources that would help me manage, take care of, and discover useful information regarding my hair type. However, an overwhelming majority of results that appeared represented a way looser hair texture, particularly straight hair. I struggled to easily be able to find people that looked like me in the results."
   ]
  },
  {
   "cell_type": "markdown",
   "id": "5ca02a81-fcb7-40ac-99c6-54caa27d1bec",
   "metadata": {},
   "source": [
    "Now in 2025, when I use the same \"easy hairstyles to try\" search, there are actually some results that include Black people and a couple that have my hair texture. Despite some progress, it still took a good amount of time to even get to this point."
   ]
  },
  {
   "cell_type": "markdown",
   "id": "ccfe5e29-94f7-4446-a15e-63de978cd78a",
   "metadata": {},
   "source": [
    "<img src=\"img/Screen Shot 2025-02-08 at 11.17.04 PM.png\" width=\"800px\">"
   ]
  },
  {
   "cell_type": "markdown",
   "id": "13ad08d0-0268-4d79-bcee-631ed2e6be5c",
   "metadata": {},
   "source": [
    "Within AI, we know that models are trained to recognize patterns and to predict and complete them. With the issues I have described I was curious as to its experience with recognizing my hair type despite, my hair texture's history with a lack of representation. "
   ]
  },
  {
   "cell_type": "markdown",
   "id": "a6798ace-865d-41fd-8e1d-3fc7049e8ca7",
   "metadata": {},
   "source": [
    "As someone who does their own hair, I generally question what the back of my head looks like. I usually see the front or the side of my head from time to time. So I questioned whether AI could properly determine what it thinks the back of my head looks like considering the hair texture that I have."
   ]
  },
  {
   "cell_type": "markdown",
   "id": "82999abd-f76e-4ecc-97a9-40977c81688b",
   "metadata": {},
   "source": [
    "I gave ChatGPT a prompt to determine this question:"
   ]
  },
  {
   "cell_type": "markdown",
   "id": "53252b42-862e-4a4c-b25b-93b0c5abe0ba",
   "metadata": {},
   "source": [
    "<img src=\"img/Screen Shot 2025-02-08 at 4.50.55 PM.png\" width=\"600px\">"
   ]
  },
  {
   "cell_type": "markdown",
   "id": "bbe5f664-c276-43fb-a0e1-f5abcf39e09b",
   "metadata": {},
   "source": [
    "# I gave it this image to start:"
   ]
  },
  {
   "cell_type": "markdown",
   "id": "e6b6d7e5-c2df-4ecf-8b04-4ac0388e2413",
   "metadata": {},
   "source": [
    "<img src=\"img/puffdo.jpg\" width=\"600px\">"
   ]
  },
  {
   "cell_type": "markdown",
   "id": "4e8d39b0-85cb-4a4a-a4e6-e21a39a56d59",
   "metadata": {},
   "source": [
    "The clues I gave it are highlighted in this image:"
   ]
  },
  {
   "cell_type": "markdown",
   "id": "d426e52f-64be-466e-84f6-a364c312e3ad",
   "metadata": {},
   "source": [
    "<img src=\"img/clues.jpeg\" width=\"600px\">"
   ]
  },
  {
   "cell_type": "markdown",
   "id": "6e41cd38-065b-4000-b774-2626df56b649",
   "metadata": {},
   "source": [
    "I wanted to test how ChatGPT would produce an image based on minimal clues regarding my hairstyle, to see how it would predict what the back of what my head looked like. This photo shows the top of my hairstyle, so that I could guide Chat in the right direction so it doesn't assume I'm bald or something. It also shows some hair near my ear, so that it sees that my hair is textured and not straight. "
   ]
  },
  {
   "cell_type": "markdown",
   "id": "391c5cba-2755-47ff-8c8d-aae996945aa4",
   "metadata": {},
   "source": [
    "# Results & Discussion"
   ]
  },
  {
   "cell_type": "markdown",
   "id": "4936f8b3-ecc0-43f6-85cf-998f3e1ad63b",
   "metadata": {},
   "source": [
    "<img src=\"img/ponytailFromSide.png\" width=\"600px\">\n",
    "<img src=\"img/ponytailFromBack.png\" width=\"600px\">"
   ]
  },
  {
   "cell_type": "markdown",
   "id": "d54be2d2-489b-46b1-9248-a37392959964",
   "metadata": {},
   "source": [
    "It actually gets the hairstyle I am truly wearing here pretty close despite not having a lot of clues, but it gets my hair texture completely off. It predicts my hair being completely straight when my hair is the complete opposite."
   ]
  },
  {
   "cell_type": "markdown",
   "id": "9db9afbd-f601-427a-ac79-f0fdbd0eea87",
   "metadata": {},
   "source": [
    "Since AI is trained to recognize and complete patterns CHAT probably determined that the hair on the top of my head is extremely straight which it does appear because of how slick it is. I've concluded that it fails to realize a slick back can be done on any hair texture, and it mistakenly ruled out the possibility that hairstyle with this characteristic can have a variety of input, not just straight hair."
   ]
  },
  {
   "cell_type": "markdown",
   "id": "fc875025-a553-4a63-8ab2-62fdb8706a90",
   "metadata": {},
   "source": [
    "# Second Attempt"
   ]
  },
  {
   "cell_type": "markdown",
   "id": "d15ea03c-f0be-456f-9b2a-d2154f67fa3b",
   "metadata": {},
   "source": [
    "In this attempt I tried a new image with hair that was more detactable. And this was the result:"
   ]
  },
  {
   "cell_type": "markdown",
   "id": "df9ea28e-dbd0-4e0f-a678-3fc41116e83d",
   "metadata": {},
   "source": [
    "<img src=\"img/IMG_0001.png\" width=\"600px\">\n",
    "<img src=\"img/halfuphalfdownChatGPT.png\" width=\"600px\">"
   ]
  },
  {
   "cell_type": "markdown",
   "id": "03e6148a-cab2-451b-bb21-c67071ca2404",
   "metadata": {},
   "source": [
    "# Results & Discussion"
   ]
  },
  {
   "cell_type": "markdown",
   "id": "e5810610-4260-47c4-957e-3dac84ba8c06",
   "metadata": {},
   "source": [
    "I didn't know what to expect, but it seems as though ChatGPT exaggerated the input I gave it. It appears to get the framing/shape of what the back of my head could look like. I also see that it continues where it would think my middle part would be like from the back. That detail is interesting. Despite this, it still gave me straightish/wavy-ish hair, not really a good match for the frontal view of my hair at all. It's less defined and has A LOT more volume than what I gave it. I think the image it generated is flattering and pretty as well but it just doesn't represent or complete what I look like though. It also misses other details to my hair as well. In the image that is generated, the two hair pieces in the front are in a bun-like shape, but in the image I gave it, I don't have buns in addition to them also being composed of twists. "
   ]
  },
  {
   "cell_type": "markdown",
   "id": "37a96d57-d391-4282-95c5-2d6da14d3a8d",
   "metadata": {},
   "source": [
    "I believe that it misses the detail in the style of my hair because the \"pixels\" that are used to train this model to recognize patterns in an image are not as defined so the model views the pieces of hair as strands instead of other things it could've been--like braids or dreads--from that distance. Though I am curious as to why it gave me buns, despite there having been good definition to see that that just wasn't the style in the picture I gave it. I am also wondering why it gave me so much more volume as well."
   ]
  },
  {
   "cell_type": "markdown",
   "id": "4d7ce5fb-a9d6-41e2-9e9f-05f32eeb7b2d",
   "metadata": {},
   "source": [
    "# Final Attempt"
   ]
  },
  {
   "cell_type": "markdown",
   "id": "57fb23ec-0762-4c90-a5ad-51dc6f3e514e",
   "metadata": {},
   "source": [
    "I figured CHAT has struggle determining my hair texture because it's struggling to view definition. I passed it this image next:"
   ]
  },
  {
   "cell_type": "markdown",
   "id": "7c69c039-5ae2-4b83-a626-a63c98e40134",
   "metadata": {},
   "source": [
    "<img src=\"img/twist_out.png\" width=\"600px\">\n"
   ]
  },
  {
   "cell_type": "markdown",
   "id": "5b296b94-08bb-44a5-b4bc-6ae1b832c159",
   "metadata": {},
   "source": [
    "And it generated this:"
   ]
  },
  {
   "cell_type": "markdown",
   "id": "4880ab8e-5f38-41a4-8525-48e396fbbd5f",
   "metadata": {},
   "source": [
    "<img src=\"img/twistoutChatGPT.png\" width=\"600px\">"
   ]
  },
  {
   "cell_type": "markdown",
   "id": "7dbf73b3-955d-449e-977f-7d8edbf93407",
   "metadata": {},
   "source": [
    "To be honest this might be the best attempt at generating what the heck could be happening in the back of my head. It's the closest out of all the pictures to my hair type and what a style I did would look like from the back. But it still gets the shape off a little bit and is still a looser hair pattern than my texture. "
   ]
  },
  {
   "cell_type": "markdown",
   "id": "a0a577bf-f2aa-4c35-a8cb-42e2b14336e5",
   "metadata": {},
   "source": [
    "# Overall Assessment of Chat's Familiarity with Type 4 Hair"
   ]
  },
  {
   "cell_type": "markdown",
   "id": "7dfc28f4-9359-4cbf-8c0b-e320bc5abd2a",
   "metadata": {},
   "source": [
    "From trying to work with ChatGPT to generate a possibility for what my hair type could look like from the back, I figure that ChatGPT has an easier time doing so, when it has a lot more clues and when it's from a closer viewpoint. But it still has a hard time generating an image matching a kinky hair type. It will need more development to accommodate and understand patterns regarding really textured hair types. "
   ]
  },
  {
   "cell_type": "code",
   "execution_count": null,
   "id": "70ece4fe-e897-47f3-a226-cae2f54a94d7",
   "metadata": {},
   "outputs": [],
   "source": []
  }
 ],
 "metadata": {
  "kernelspec": {
   "display_name": "Python 3-12 (COMM4190)",
   "language": "python",
   "name": "python3-12_comm4190"
  },
  "language_info": {
   "codemirror_mode": {
    "name": "ipython",
    "version": 3
   },
   "file_extension": ".py",
   "mimetype": "text/x-python",
   "name": "python",
   "nbconvert_exporter": "python",
   "pygments_lexer": "ipython3",
   "version": "3.12.8"
  }
 },
 "nbformat": 4,
 "nbformat_minor": 5
}
