{
 "cells": [
  {
   "cell_type": "markdown",
   "id": "bdb3afe6-31a0-4268-aeab-c0fedc7c1d8f",
   "metadata": {},
   "source": [
    "---\n",
    "title: \"Asking AI To Create Random Stories\"\n",
    "description: \"Curious to see what kind of stories AI will create for random objects\"\n",
    "author: \"Wedgina Norelus\"\n",
    "date: \"2/22/2025\"\n",
    "categories:\n",
    "  - LLMs\n",
    "  - Prompting\n",
    "  - Creativity\n",
    "  - Story-Making\n",
    "---"
   ]
  },
  {
   "cell_type": "markdown",
   "id": "1bd07633-4d17-4e9b-b1f2-4113cdc0b0b9",
   "metadata": {},
   "source": [
    "# Asking AI To Create Random Stories"
   ]
  },
  {
   "cell_type": "markdown",
   "id": "6fbc85a3-cb97-4cdb-b8aa-7398ef2b7004",
   "metadata": {},
   "source": [
    "I was curious as to how AI would choose to generate stories for random objects that have no lives or living qualities. I went through my camera roll and selected photos of objects one wouldn't think too much of, but I found interesting trying to figure out the backstory of how those things happened, when I took them. I wondered how interesting the stories AI could create in opposition to what I could've possibly created myself. I gave in these objects to Claude AI to test its story generation properties."
   ]
  },
  {
   "cell_type": "markdown",
   "id": "5da1cec7-5abc-478d-8b57-3e4f9fdeb835",
   "metadata": {},
   "source": [
    "## Object 1"
   ]
  },
  {
   "cell_type": "markdown",
   "id": "1e072d18-8c83-408a-87ac-daec37589e41",
   "metadata": {},
   "source": [
    "> <img src=\"img/camry.jpg\" width=\"300px\">\n",
    "\n",
    "The first time I noticed this car came from a time I was trying to jumpstart my car because the battery died. And ever since I noticed it the first time, I was never able to unsee it. To be honest I just assumed the driver was someone older. I asked Claude to create a small and interesting story as to what could have happened. I told it to do so in the style of action genre to spice it up."
   ]
  },
  {
   "cell_type": "markdown",
   "id": "3a56c926-660d-4fd5-855d-a54bb96f1434",
   "metadata": {},
   "source": [
    "## Story 1"
   ]
  },
  {
   "cell_type": "markdown",
   "id": "d023e372-e607-4258-8ff3-b84fffd6c8d3",
   "metadata": {},
   "source": [
    "<img src=\"img/Camry_response.png\" width = \"500px\">\n",
    "\n",
    "On a scale of 1 to 10 I give this story a 9. I think it's a pretty interesting story and does a good job adhering to the theme. "
   ]
  },
  {
   "cell_type": "markdown",
   "id": "533f1ab9-2b57-49c6-abbb-5ff14c94012d",
   "metadata": {},
   "source": [
    "## Object 2"
   ]
  },
  {
   "cell_type": "markdown",
   "id": "8bbd58ce-20f5-444c-b0d7-1e18be59019c",
   "metadata": {},
   "source": [
    "> <img src=\"img/glasses.PNG\" width = 300px>\n",
    "\n",
    "To be honest, I can't even explain what happened to these frames at all. I just know I took them off one day and the frame split because of a loose screw and boom my lens left the conversation. I sat there and looked at them in shock, frantically trying to figure out how I would get a new pair."
   ]
  },
  {
   "cell_type": "markdown",
   "id": "e0f9a337-50dd-4628-a961-3271a503c1be",
   "metadata": {},
   "source": [
    "## Story 2"
   ]
  },
  {
   "cell_type": "markdown",
   "id": "36bdccc3-0fe1-4a89-bdd5-6982ee76babe",
   "metadata": {},
   "source": [
    "<img src=\"img/glasses_story.png\" width =\"500px\">"
   ]
  },
  {
   "cell_type": "markdown",
   "id": "c8e5a203-8042-4a7f-bac9-7bae1e652884",
   "metadata": {},
   "source": [
    "For this prompt I actually asked it, to just write a story about what it thinks happened to these glasses. I thought it was interesting it went in a very sentimental and dramatic direction. It's not as interesting as the other one, but it does the job and still does a good job"
   ]
  },
  {
   "cell_type": "markdown",
   "id": "af4668f4-1496-42d3-938a-0420449be7d2",
   "metadata": {},
   "source": [
    "## Object 3 "
   ]
  },
  {
   "cell_type": "markdown",
   "id": "b892be3e-e6fe-4c96-9f9c-778d6e182c0c",
   "metadata": {},
   "source": [
    "> <img src=\"img/watermelon.PNG\" width = \"300px\">"
   ]
  },
  {
   "cell_type": "markdown",
   "id": "c69b02fb-cd01-45c4-976f-1816f9e635f5",
   "metadata": {},
   "source": [
    "## Story 3\n",
    "\n",
    "For the prompt for this one, I asked Claude to write a **sad** story about what could have happened to this watermelon. With the original image, I had just came back from the mall. I went to go pick up my computer from the apple store because it had battery issues, and I stumbled upon this. I questioned how it was possible that this happened to this watermelon, it looks so deflated. "
   ]
  },
  {
   "cell_type": "markdown",
   "id": "98f54777-0d57-495f-a3d0-352158430fd1",
   "metadata": {},
   "source": [
    "<img src=\"img/watermelon_story.png\" width=\"400px\">"
   ]
  },
  {
   "cell_type": "markdown",
   "id": "f8e432ea-57a2-4800-b27d-78a8a6311777",
   "metadata": {},
   "source": [
    "I think it also does a good job here, although a tad dramatic as well. But the idea I would give in this story if I were to do it myself, is that Tommy was carrying the watermelon to his sister's grad party, and that some bullies came and destroyed it, because to me it looks more like someone kicked it or smushed it with their foot. "
   ]
  }
 ],
 "metadata": {
  "kernelspec": {
   "display_name": "Python 3-12 (COMM4190)",
   "language": "python",
   "name": "python3-12_comm4190"
  },
  "language_info": {
   "codemirror_mode": {
    "name": "ipython",
    "version": 3
   },
   "file_extension": ".py",
   "mimetype": "text/x-python",
   "name": "python",
   "nbconvert_exporter": "python",
   "pygments_lexer": "ipython3",
   "version": "3.12.8"
  }
 },
 "nbformat": 4,
 "nbformat_minor": 5
}
