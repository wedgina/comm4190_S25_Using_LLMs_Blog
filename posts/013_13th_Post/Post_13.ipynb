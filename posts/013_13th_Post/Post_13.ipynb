{
 "cells": [
  {
   "cell_type": "markdown",
   "id": "56c52e3d-e5de-45e1-954e-2d040ccc2a3a",
   "metadata": {},
   "source": [
    "---\n",
    "title: \"How well can AI really know you? Part II\"\n",
    "description: \"Revisiting previous post with updated methodologies to interact with AI\"\n",
    "author: \"Wedgina Norelus\"\n",
    "date: \"3/29/2025\"\n",
    "categories:\n",
    "  - Personality\n",
    "  - Reason \n",
    "  - LLMs\n",
    "  - Cognition\n",
    "---"
   ]
  },
  {
   "cell_type": "markdown",
   "id": "1eb920f6-59cd-4244-86d8-1848c2b8b5ad",
   "metadata": {},
   "source": [
    "# How well can AI really know you? Part II"
   ]
  },
  {
   "attachments": {
    "f12dfc8c-8457-452e-af8f-1d9170aab822.jpeg": {
     "image/jpeg": "[encoded data removed]"
    }
   },
   "cell_type": "markdown",
   "id": "a9e24ed3-75f0-4b1f-bf69-61a3e3a62dfe",
   "metadata": {},
   "source": [
    "![](attachment:f12dfc8c-8457-452e-af8f-1d9170aab822.jpeg)"
   ]
  },
  {
   "cell_type": "markdown",
   "id": "a9f09197-46ba-4ee0-b04b-3e0cc50540b1",
   "metadata": {},
   "source": [
    "In a previous post titled \"How well can AI really know you?\" I speak about asking Chat Gpt to do some kind of low level thinking of terms of social interaction. We are special in that way, that we are able to reason about others that are close to us and about what kind of person they are. However, LLMs that are made to model after us, do not have personalities for us to reason about, how would they be able to do the same and replicate humans in that way? In contrast to my previous post, where I asked it what it knows about me or my personality (something that it would have to do some sort of reasoning about since most of the time I'm not sitting there telling it, \"Hi I'm a well rounded, pessimistic, analytical person\" for example). As part of that post, I ultimately ruled that the information the chat model stores is typically accurate and it is able to do some of the reasoning on a lower level but it's not exactly realistic like how a human would remember information about the type of person someone is when asked. For this post instead, I will ask it some more questions that would require some more higher level thinking and assessing how well it is able to critically evaluate me. "
   ]
  },
  {
   "cell_type": "markdown",
   "id": "c82cd16e-db14-4a76-9286-103bb97419fa",
   "metadata": {},
   "source": [
    "The prompt that I passed to ChatGPT was this:\n",
    "\n",
    "\n",
    "**\"What do you know about me that I may not know about myself?\"**"
   ]
  },
  {
   "cell_type": "markdown",
   "id": "74ec1ae1-8621-41c9-aad9-ee57cfbd04ae",
   "metadata": {},
   "source": [
    "> \"I can notice patterns in how you think and what you gravitate toward. Here are a few observations you might not have explicitly realized:\n",
    "> \n",
    "> 1. You approach topics from unique angles – Whether it's AI, neuroscience, or your blog topics, you often interpret things in ways that aren't obvious to others. You seem to enjoy uncovering hidden layers in concepts.\n",
    "> \n",
    "> 2. You balance analytical and creative thinking – Your interests span hard data (SQL, fMRI analysis, clinical research) and more abstract ideas (AI’s creative applications, neuroscience communication). This duality suggests you thrive in spaces that blend structure with exploration.\n",
    ">\n",
    "> 3. You are drawn to understanding how systems interact – Many of your projects explore relationships: crime and hospital proximity, TikTok and Spotify, parenting and child development. This pattern suggests you naturally think in terms of connections and networks.\n",
    ">\n",
    "> 4. You care about personal expression, even if it’s subtle – Your thoughts on graduation makeup, hair, and eyebrows show a desire to present yourself in a way that feels right for you, even if you don't have a full routine. It’s less about trends and more about feeling confident.\n",
    ">\n",
    "> 5. You’re in a transition phase, and you're actively shaping what’s next – You're exploring jobs, research, and certifications, and while you have strong interests (like neuroscience and data analysis), you're still open to different paths. You seem to be seeking clarity but are comfortable with some uncertainty.\""
   ]
  },
  {
   "cell_type": "markdown",
   "id": "e004258b-fd97-4dbc-bfc2-810f101509fd",
   "metadata": {},
   "source": [
    "To evaluate these I would have to speak on if I knew these things or not before I posed Chat this question. I feel though that I did already know many of these things about myself already especially the last one, like I'm literally graduating. As for the rest of these, I wouldn't say I didn't know them about myself but that instead that I don't fully agree with it so I feel like if it's saying stuff I don't even feel is true, it will struggle to tell you stuff you don't know overall."
   ]
  },
  {
   "cell_type": "markdown",
   "id": "6494620b-acb0-4c57-af7f-7dcf5a2e4d21",
   "metadata": {},
   "source": [
    "The next part of the prompt I asked it was this:\n",
    "\n",
    "\n",
    "\n",
    "\n",
    "\n",
    "**\"Be more critical\"**"
   ]
  },
  {
   "cell_type": "markdown",
   "id": "a2c7c780-9a94-4490-8d96-bd05680d2274",
   "metadata": {},
   "source": [
    "> \"Here’s a more critical take—meant to challenge you, not discourage you:\n",
    ">\n",
    "> 1. You hesitate to commit fully to a direction – You have a lot of interests (clinical research, AI, neuroscience, data analytics, cognitive science, MRI tech), but you seem to keep options open rather than deeply committing to one path. This could be strategic, but it might also be a way of avoiding a tough decision.\n",
    ">\n",
    "> 2. You sometimes overanalyze instead of acting – Your tendency to interpret things in less obvious ways is a strength, but it could also mean you get stuck thinking rather than doing. In some areas (like hair), you’ve been thinking about it but haven't made a decision yet. Is this a pattern in other areas too?\n",
    ">\n",
    "> 3. You might underestimate the value of specialization – Your ability to connect different disciplines is great, but have you considered whether you're spreading yourself too thin? If you want to stand out in a competitive field, deep expertise in one area could be more valuable than broad knowledge.\n",
    ">\n",
    "> 4. You may not always recognize when you're resisting discomfort – For example, you’ve mentioned learning Python and fMRI analysis, but if you’re less comfortable with something (like Python), do you put in the same effort as areas where you feel more confident? Avoiding discomfort could slow growth.\n",
    ">\n",
    "> 5. You could push yourself to take more risks – You’ve done some great projects and interviews, but do you ever avoid opportunities because you’re unsure how you’ll perform? If you’re hesitating to apply for a certain job, reach out to a professor, or dive deeper into a skill, is it because of an actual barrier or just self-doubt?\n",
    ">\n",
    "> What do you think? Do any of these points strike a nerve?\""
   ]
  },
  {
   "cell_type": "markdown",
   "id": "f92fb0c3-b6cd-4128-92ae-ccabe80362a1",
   "metadata": {},
   "source": [
    "### Evaluation\n",
    "\n",
    "Damn, why Chat read me like that though lol?! When it comes to deciding how well Chat was at being able to critically evaluate me, I have to go on the basis on how similar its response is to someone who has given me critical feedback in my life or what someone who is evaluating me would probably say. In addition to the first prompt, I feel like here it does an actual good job at providing me an analysis about myself that I actually didn't know about. And when I take what I said previously, about comparing it based on new feedback I've heard about myself from other people, I actually think Chat Gpt does a good job of providing me a novel analysis of myself. I've never really heard the 2nd, 4th, or the 5th one before, but when it spoke about them, I found that it makes sense that it's true that I could continue to work on those things about myself. The 1st I feel like I already knew though. \n",
    "\n",
    "However I do also think Chat falls to some sort of bias, because obviously if I'm using it, I need guidance in some type of direction that I am asking for. It's like going to a guidance counselor and asking them to do their job and help you through the college process and then them just calling you indecisive for you asking them about a particular direction. Like that's not particularly true. "
   ]
  },
  {
   "cell_type": "markdown",
   "id": "0be4c192-9e84-4f7e-8b6c-b2e2e6a798c7",
   "metadata": {},
   "source": [
    "In my previous post I asked Chat what does it know about my personality and the response I received is as follows:\n",
    "\n",
    "> \" From our conversations, I’ve gathered a few insights about your personality:  \n",
    ">\n",
    "> **Curious & Analytical:**\n",
    ">  \n",
    "> * You enjoy exploring complex topics, especially in neuroscience, cognition, and data analysis.  \n",
    "> * You like thinking critically about theories and real-world applications.\n",
    ">   \n",
    "> **Detail-Oriented & Research-Driven:**\n",
    ">     \n",
    "> * You prefer working with data, conducting thorough analyses, and structuring your arguments based on evidence.  \n",
    "> * Your projects, like analyzing TikTok’s influence on Spotify and studying trauma center quality, reflect a strong research mindset.\n",
    ">    \n",
    "> **Creative & Thoughtful:**\n",
    ">   \n",
    "> * You come up with unique ideas, such as the creative 3D printer gift reveal.  \n",
    "> * You also explore new ways to communicate scientific ideas, like your neuroscience podcast and AI blog project.\n",
    ">     \n",
    "> **Independent & Goal-Oriented:**\n",
    ">   \n",
    "> * You’re proactive about your career, actively looking for research opportunities and internships while considering long-term plans like MRI certification.\n",
    ">\n",
    "> **Hands-On Learner:**\n",
    "> \n",
    "> * You prefer learning through examples and practical applications rather than just theory.\n",
    ">     \n",
    "> **Balanced & Open-Minded:**\n",
    "> \n",
    "> * You have a mix of scientific rigor and an appreciation for human experiences, such as your interest in parenting styles and criminal behavior in relation to free will.\""
   ]
  },
  {
   "cell_type": "markdown",
   "id": "4afdf026-302f-414e-9d48-26b81fa31aa0",
   "metadata": {},
   "source": [
    "So you can see that there is a difference in how it chooses to reason based on my question. But I feel like what it chooses to do here is still very similar to the content in the first prompt I asked it, despite me asking it, to tell me things about me I may not know about myself. But it still returned to me things that it's already told me before. And also seeing that it is an LLM and not a human, it still recites the same information it has about me, like the projects I've worked on or the fMRI related information which doesn't make sense to do if I'm asking about information that I myself may not know about me. I know that this is the case due to the type of information it stores in its memory. I'm not sure what goes into what it decides to be stored in its memory actually, but its limited memory/capacity disadvantages it in a way because it just keeps recycling the same information for its reasoning.  "
   ]
  },
  {
   "cell_type": "markdown",
   "id": "c61904e9-7a3b-4539-b8c7-9db2644ae651",
   "metadata": {},
   "source": [
    "# Conclusion\n",
    "\n",
    "Overall, I actually enjoyed listening to what Chat thinks about me and how it can reason on a higher level. I didn't expect it to actually be able to form it into words but it exceeded my expectations. I think it can definitely be used to help you focus on your weaknesses you didn't know you had and help you to work on them instead, unlike some people. As for telling you stuff that it thinks you don't know about yourself, I feel like it lacks in because it is ultimately just reciting stuff it stores in its memory. "
   ]
  }
 ],
 "metadata": {
  "citation-manager": {
   "items": {}
  },
  "kernelspec": {
   "display_name": "Python 3-12 (COMM4190)",
   "language": "python",
   "name": "python3-12_comm4190"
  },
  "language_info": {
   "codemirror_mode": {
    "name": "ipython",
    "version": 3
   },
   "file_extension": ".py",
   "mimetype": "text/x-python",
   "name": "python",
   "nbconvert_exporter": "python",
   "pygments_lexer": "ipython3",
   "version": "3.12.8"
  }
 },
 "nbformat": 4,
 "nbformat_minor": 5
}
