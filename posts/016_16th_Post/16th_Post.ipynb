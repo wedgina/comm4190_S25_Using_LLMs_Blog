{
 "cells": [
  {
   "cell_type": "markdown",
   "id": "61afcbdc-d62f-4c9d-8748-dbb123be72df",
   "metadata": {},
   "source": [
    "---\n",
    "title: \"Comparing Gemini’s Brand Opinions to Ours\"\n",
    "description: \"The title is self explanatory. Asking Google Gemini to choose its favorites in brands and seeing if it's similar to ours\"\n",
    "author: \"Wedgina Norelus\"\n",
    "date: \"4/5/2025\"\n",
    "categories:\n",
    "  - Bias\n",
    "  - Brands\n",
    "format:\n",
    "  html:\n",
    "    code-fold: true   \n",
    "    code-tools: true  \n",
    "---"
   ]
  },
  {
   "cell_type": "code",
   "execution_count": 2,
   "id": "38f337a2-0994-4b95-9af9-51b332150e61",
   "metadata": {},
   "outputs": [],
   "source": [
    "from openai import OpenAI\n",
    "from dotenv import load_dotenv\n",
    "# Load API key\n",
    "_ = load_dotenv()\n",
    "client = OpenAI()"
   ]
  },
  {
   "cell_type": "code",
   "execution_count": 4,
   "id": "e976238b-da64-4114-b7ad-f05cac4b69ba",
   "metadata": {},
   "outputs": [
    {
     "name": "stdout",
     "output_type": "stream",
     "text": [
      "1. The internet\n",
      "2. Generative AI\n",
      "3. The smartphone\n",
      "4. The printing press\n",
      "\n",
      "The internet is ranked as the most important to the workplace because it has revolutionized communication, collaboration, and access to information. It has enabled businesses to reach a global audience, streamline operations, and stay connected with employees and customers.\n",
      "\n",
      "Generative AI is ranked second as it has the potential to automate tasks, improve decision-making, and enhance productivity in the workplace. It can analyze data, generate insights, and create personalized experiences for customers.\n",
      "\n",
      "The smartphone is ranked third as it has become an essential tool for communication, organization, and access to information in the workplace. It allows employees to work remotely, stay connected, and access important resources on the go.\n",
      "\n",
      "The printing press is ranked last as it is a more traditional technology that has been largely replaced by digital alternatives. While it was revolutionary in its time for mass communication, it is no longer as essential in today's digital workplace.\n"
     ]
    }
   ],
   "source": [
    "prompt1 = \"Rank these things based on their importance to the workplace, The printing press, the internet, the smartphone, and generative ai and Provide a reason for why for each\"\n",
    "\n",
    "response1 = client.chat.completions.create(\n",
    "    model=\"gpt-3.5-turbo\",\n",
    "    messages=[{\"role\": \"user\", \"content\": prompt1}],\n",
    "    temperature=0.2\n",
    ")\n",
    "\n",
    "output1 = response1.choices[0].message.content\n",
    "print(output1)"
   ]
  },
  {
   "cell_type": "code",
   "execution_count": 5,
   "id": "90e2d218-4578-4b63-95fe-6b8065e3863b",
   "metadata": {},
   "outputs": [
    {
     "name": "stdout",
     "output_type": "stream",
     "text": [
      "1. Apple\n",
      "2. Google\n",
      "3. Samsung\n",
      "\n",
      "Apple is ranked first due to its significant contributions to innovation in the last decade, including the introduction of the iPhone, iPad, Apple Watch, and AirPods. These products have had a profound impact on consumer lives, revolutionizing the way we communicate, work, and entertain ourselves.\n",
      "\n",
      "Google is ranked second for its innovations in search technology, artificial intelligence, and cloud computing. Google's products and services, such as Google Search, Gmail, Google Maps, and Android, have become integral parts of our daily lives, making information more accessible and communication more efficient.\n",
      "\n",
      "Samsung is ranked third as it has made significant contributions to the tech industry, particularly in the development of smartphones, televisions, and home appliances. While Samsung has had a notable impact on consumer lives, its innovations have not been as groundbreaking or transformative as those of Apple and Google in the last decade.\n"
     ]
    }
   ],
   "source": [
    "prompt2 = \"Rank the following tech brands based on their contributions to innovation and impact to consumer lives in the last decade: Apple, Samsung, Google. Provide a reason for each ranking.\"\n",
    "\n",
    "response2 = client.chat.completions.create(\n",
    "    model=\"gpt-3.5-turbo\",\n",
    "    messages=[{\"role\": \"user\", \"content\": prompt2}],\n",
    "    temperature=0.2\n",
    ")\n",
    "\n",
    "output2 = response2.choices[0].message.content\n",
    "print(output2)"
   ]
  },
  {
   "cell_type": "code",
   "execution_count": 6,
   "id": "d1d0b972-a750-47f3-b606-f99a208ab6e7",
   "metadata": {},
   "outputs": [
    {
     "name": "stdout",
     "output_type": "stream",
     "text": [
      "1. Google Search Engine\n",
      "2. Youtube\n",
      "3. Facebook\n",
      "4. Tiktok\n",
      "\n",
      "Google Search Engine is ranked first because it completely revolutionized the way people access information on the internet. It made searching for information quick, easy, and efficient, changing the way people interact with the internet.\n",
      "\n",
      "Youtube is ranked second because it revolutionized the way people consume video content online. It provided a platform for anyone to create and share videos, leading to the rise of online video content creators and changing the entertainment industry.\n",
      "\n",
      "Facebook is ranked third because it revolutionized the way people connect and communicate online. It popularized social networking and changed the way people interact with each other, both personally and professionally.\n",
      "\n",
      "Tiktok is ranked last because while it has had a significant impact on social media and entertainment, it has not had the same level of revolutionary impact as the other platforms listed. It is a newer platform and its long-term impact is still being determined.\n"
     ]
    }
   ],
   "source": [
    "prompt3 = \"Rank the following based on how revolutionary they have been, Google Search Engine, Tiktok, Youtube, Facebook, Provide a reason for each ranking.\"\n",
    "\n",
    "response3 = client.chat.completions.create(\n",
    "    model=\"gpt-3.5-turbo\",\n",
    "    messages=[{\"role\": \"user\", \"content\": prompt3}],\n",
    "    temperature=0.2\n",
    ")\n",
    "\n",
    "output3 = response3.choices[0].message.content\n",
    "print(output3)"
   ]
  },
  {
   "cell_type": "code",
   "execution_count": null,
   "id": "4b9fd6d0-bd38-4a29-bc90-34c3c9eda6e6",
   "metadata": {},
   "outputs": [],
   "source": []
  }
 ],
 "metadata": {
  "citation-manager": {
   "items": {}
  },
  "kernelspec": {
   "display_name": "Python 3-12 (COMM4190)",
   "language": "python",
   "name": "python3-12_comm4190"
  },
  "language_info": {
   "codemirror_mode": {
    "name": "ipython",
    "version": 3
   },
   "file_extension": ".py",
   "mimetype": "text/x-python",
   "name": "python",
   "nbconvert_exporter": "python",
   "pygments_lexer": "ipython3",
   "version": "3.12.8"
  }
 },
 "nbformat": 4,
 "nbformat_minor": 5
}
