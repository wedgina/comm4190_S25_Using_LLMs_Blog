{
 "cells": [
  {
   "cell_type": "markdown",
   "id": "709fc4e0-ef5d-4130-8bbb-19531d1e3f1a",
   "metadata": {},
   "source": [
    "---\n",
    "title: Can AI write better scripts than we can? \n",
    "description: Asking AI to create endings to my favorite shows\n",
    "author: \"Wedgina Norelus\"\n",
    "date: 2/19/2025\n",
    "categories:\n",
    "  - LLMs\n",
    "  - Creativity\n",
    "  - Television\n",
    "  - Netflix\n",
    "---"
   ]
  },
  {
   "cell_type": "markdown",
   "id": "316652f3-2422-4862-95ca-1cf7814b7217",
   "metadata": {},
   "source": [
    "# Testing AI On Its Storytelling"
   ]
  },
  {
   "cell_type": "markdown",
   "id": "63fcf149-f675-4009-980f-e0cfb3934049",
   "metadata": {},
   "source": [
    "<img src=\"Netflix.jpeg\" width=\"600px\">"
   ]
  },
  {
   "cell_type": "markdown",
   "id": "7fd05c0d-9cef-4e68-ba78-18b8a10ee88a",
   "metadata": {},
   "source": [
    "The ending to a show is very important. We spent mad energy watching shows we love and seeing it end can be sad, but its ending can truly make or break it. It can be so disappointing genuinely enjoying the show but it having a terrible ending or just watching it be cancelled overall (I'm looking at you Netflix!). So I decided to prompt Chat GPT to create alternative endings to shows that already have endings to compare whether it could write a better ending than what was already written."
   ]
  },
  {
   "cell_type": "code",
   "execution_count": 35,
   "id": "95347e89-3d79-4b76-86cc-9270c175c301",
   "metadata": {},
   "outputs": [],
   "source": [
    "from langchain_core.prompts.chat import ChatPromptTemplate\n",
    "from langchain_core.runnables import (\n",
    "                                        RunnablePassthrough,\n",
    "                                        RunnableLambda,\n",
    "                                        RunnableParallel\n",
    ")\n",
    "\n",
    "from langchain_openai.chat_models import ChatOpenAI\n",
    "from langchain_core.output_parsers import StrOutputParser\n",
    "\n",
    "\n",
    "from operator import itemgetter\n",
    "\n",
    "from IPython.display import display, Markdown\n",
    "\n",
    "from dotenv import load_dotenv\n",
    "import os"
   ]
  },
  {
   "cell_type": "code",
   "execution_count": 2,
   "id": "9b118883-074e-4a78-b31c-5ba368ec51ca",
   "metadata": {},
   "outputs": [],
   "source": [
    "# Load API key\n",
    "_ = load_dotenv()"
   ]
  },
  {
   "cell_type": "code",
   "execution_count": 22,
   "id": "08ec77ba-6075-4155-9eae-7d16a177c409",
   "metadata": {},
   "outputs": [],
   "source": [
    "plot_generation_prompt = ChatPromptTemplate.from_template(\n",
    "    \"\"\"Given the following show, create an effective\n",
    "    ending for how it should end:\n",
    "    ---\n",
    "    Show: {Show}\n",
    "    ---\n",
    "    Ending: \"\"\"\n",
    "    )\n",
    "\n",
    "plot_alternative_ending_prompt = ChatPromptTemplate.from_template(\n",
    "    \"\"\"Given the following show, create an effective alternative\n",
    "    ending to how the last episode actually ended:\n",
    "    ---\n",
    "    Show: {Show}\n",
    "    ---\n",
    "    AlternativeEnding: \"\"\"\n",
    "    )\n"
   ]
  },
  {
   "cell_type": "code",
   "execution_count": 27,
   "id": "5499de81-d538-42d6-a20c-8059955b90fc",
   "metadata": {},
   "outputs": [],
   "source": [
    "# Create the chat model:\n",
    "model = ChatOpenAI(model_name=\"gpt-4\")\n",
    "\n",
    "# Create the sub-chains:\n",
    "\n",
    "plot_generation_chain = ( plot_generation_prompt\n",
    "| model\n",
    "| StrOutputParser() )\n",
    "\n",
    "plot_alternative_ending_chain = ( plot_alternative_ending_prompt\n",
    "| model\n",
    "| StrOutputParser() )\n"
   ]
  },
  {
   "cell_type": "markdown",
   "id": "91726680-78c4-4b66-bb51-98f6969e952b",
   "metadata": {},
   "source": [
    "## I created prompts for Chat GPT to create the alternative endings to shows such as Manifest, Cobra Kai, and Never Have I Ever"
   ]
  },
  {
   "cell_type": "code",
   "execution_count": 29,
   "id": "0dc5af54-bc75-4e68-be9f-13821c6c58ec",
   "metadata": {},
   "outputs": [],
   "source": [
    "manifest_alternative = plot_alternative_ending_chain.invoke({'Show': 'Manifest'})"
   ]
  },
  {
   "cell_type": "code",
   "execution_count": 30,
   "id": "39d0d41c-32bb-4ee2-8239-fa8c11ab5fe2",
   "metadata": {},
   "outputs": [],
   "source": [
    "cobra_kai_alternative = plot_alternative_ending_chain.invoke({'Show': 'Cobra Kai'})"
   ]
  },
  {
   "cell_type": "code",
   "execution_count": 44,
   "id": "5a0e6666-5943-483a-ac3e-5bd2af0fc59f",
   "metadata": {},
   "outputs": [],
   "source": [
    "NHIE = plot_alternative_ending_chain.invoke({'Show': 'Never Have I Ever'})"
   ]
  },
  {
   "cell_type": "markdown",
   "id": "b0a8cb56-dcbb-45b6-9f4c-037d8eadfac8",
   "metadata": {},
   "source": [
    "## The Output for Manifest"
   ]
  },
  {
   "cell_type": "code",
   "execution_count": 41,
   "id": "acb1e024-cdfe-483d-9fb7-8955ae3b820d",
   "metadata": {},
   "outputs": [
    {
     "data": {
      "text/markdown": [
       "Instead of following the original ending where the story leaves various character’s fates ambiguous after the reappearing of Montego Air Flight 828, this alternative ending reveals more.\n",
       "\n",
       "As tensions mount under the increasing pressure of the prophetic 'death date', passengers of flight 828 decided to take the matter into their own hands. They rally together, gathering all the knowledge, expertise, and experiences they've collected since returning. Ben Stone leads the team, aided by his sister Michaela and brother-in-law Zeke, who beat his death date in the original series, convince him it can be beaten. They develop a theory that their shared explosive vision of the plane is the key to understanding their newfound abilities and the ultimate tool to beating the death date.\n",
       "\n",
       "A chemistry professor from the flight 828, takes his chance to analyze the visions, using it alongside scientific principles to detect a pattern. The passengers agree to let their brains be examined while they experience the visions, realizing that whenever the vision occurs, a specific part of their brain gets activated. Risking everything, they decide to artificially stimulate this brain region, hoping to understand its function better.\n",
       "\n",
       "Meanwhile, Saanvi and Adrian have been working on deciphering the origins of the DNA anomaly found in the passengers. Their research leads them to a groundbreaking discovery: the anomaly is not a mutation but a highly advanced form of gene therapy designed to activate latent psychic abilities in humans.\n",
       "\n",
       "This shocking revelation motivates the group even further. They eventually discover a means to control their abilities actively and use them to see beyond their personal death date in time. It’s like they’ve hacked their visions to see what they need and would like.\n",
       "\n",
       "In this moment of triumph, the story takes another surprising turn. The day everyone has been dreading arrives, their death date. However, they don’t find death but become aware of a new calling, a new vision leading them to a hidden, unknown location. The disappearance of flight 828 passengers repeats, only this time it’s not an accident. They all decided to embark on a new journey filled with countless possibilities leaving behind a world that pretty much gave up on them twice. \n",
       "\n",
       "The show ends with a sense of hope for the passengers and their loved ones, while leaving behind a world puzzled by the true nature and purpose of Montego Air Flight 828."
      ],
      "text/plain": [
       "<IPython.core.display.Markdown object>"
      ]
     },
     "metadata": {},
     "output_type": "display_data"
    }
   ],
   "source": [
    "display(Markdown(manifest_alternative))"
   ]
  },
  {
   "cell_type": "markdown",
   "id": "2a1b857d-9fb5-4b97-9d2f-2d45377624f9",
   "metadata": {},
   "source": [
    "## Reflection\n",
    "\n",
    "Many are not aware of this show, but to be honest, its original ending was one of my favorite endings I've ever endured. I give this ending a 4 on a scale of 1 to 10. I feel like there are parts of this ending that are inconsistent with previous information from the series. In the entire show I never even remember Saanvi or Adrian even interacting with each other once, they don't really have any story lines that really have to do with each other side from the fact they were on the same flight. \n",
    "\n",
    "I also find the passengers allowing their brains to be examined by the chemistry professor to be unbelievable because in previous seasons there have been issues with the government exploiting some of the passengers and doing secret unethical experiments on them like they weren't even people, so I find it hard to believe they will just hand their brain over to be examined like that.  \n",
    "\n",
    "Aside from these inaccuracies I also feel that this explanation is not well detailed. I'm confused and trying to follow what happens when it talks about the approaching death date. How does the disappearance of the passengers happen again? Do they take another flight 828?? How did they do this on purpose this time. I get leaving us with questions, but I feel like leaving us with the question about what happens to them when they disappear could be a nice ending, but not explaining how they got to the point where they disappear is not good writing. Do they vanish into thin air, do they get back on to flight 828??? Like what is it?? "
   ]
  },
  {
   "cell_type": "markdown",
   "id": "dedba352-ced5-42c9-a796-c2c5994141e0",
   "metadata": {},
   "source": [
    "## The Output for Cobra Kai"
   ]
  },
  {
   "cell_type": "code",
   "execution_count": 40,
   "id": "c17e309c-f498-4913-be63-8a76834e8d70",
   "metadata": {},
   "outputs": [
    {
     "data": {
      "text/markdown": [
       "In the final tournament, Johnny Lawrence's Cobra Kai and Daniel LaRusso's Miyagi-Do face off once again. The pupils of both dojos fight spiritedly, ensuring both Dojos are evenly garnishing points. The deciding match comes down to Miguel Diaz, who is fighting for Cobra Kai, and Robby Keene, fighting for Miyagi-Do.\n",
       "\n",
       "Just as it looks like Miguel has the upper hand, time stops as he has vivid flashbacks of when he was severely injured during a previous fight which left him comatose. The match resumes. It's intense, mirroring the inherent tension between Johnny and Daniel from their youth, but Miguel loses focus, giving Robby the opportunity to win. But, in an unexpected twist, Robby opts not to exploit Miguel's vulnerability, demonstrating the teaching of his Sensei, Daniel LaRusso: \"It is about being better than you were yesterday.\"\n",
       "\n",
       "Robby helps Miguel back to his feet, and the match resumes. After a long hard-fought battle from both sides, Miguel manages to win, but with the understanding that the real victory is not about defeating the opponent, but overcoming their own fears. \n",
       "\n",
       "Meanwhile, Johnny and Daniel who are watching the fight, reflect upon the past and realize that it’s time to bury their old grudges. The series ends with a renewed hope for reconciliation between the two rivals and the possibility of them combining their dojo's to create a hybrid of their teachings, striving for balance and harmony, and moving forward for the betterment of their students."
      ],
      "text/plain": [
       "<IPython.core.display.Markdown object>"
      ]
     },
     "metadata": {},
     "output_type": "display_data"
    }
   ],
   "source": [
    "display(Markdown(cobra_kai_alternative))"
   ]
  },
  {
   "cell_type": "markdown",
   "id": "392326a4-a5c7-4e90-8424-227a97ccaa3c",
   "metadata": {},
   "source": [
    "## Reflection\n",
    "\n",
    "On a scale of 1 to 10 I give it a 5 or a 6. In the final season of Cobra Kai they are partaking in fighting in the Sekai-Taikai--a world renowned competition for karate. Having both teams from some random town in California make it to the very end of the tournament and facing each other too, I don't feel is that believable. Also in this interpretation that makes it confusing, is why in this version, Miguel is fighting for Cobra Kai and Johnny is the sensei for them. It is explained better in the original ending to the series why that is the case, but why is that the case here?\n",
    "\n",
    "In the end about Johnny and Daniel combining their dojos, I think that's interesting. I don't feel like that is too crazy, and can see that happening. But the middle part where they have Miguel get distracted because of a flashback I don't really like. In my experience, from watching the show, it was always Robby that gets distracted multiple times and loses fights for these reasons. When Miguel be locked in a lot more. I would have to say I prefer the original ending even though that wasn't my favorite ending of all time either. \n"
   ]
  },
  {
   "cell_type": "markdown",
   "id": "569073b6-4001-4fe9-bc88-75dda0bd51de",
   "metadata": {},
   "source": [
    "## The Output for Never Have I Ever"
   ]
  },
  {
   "cell_type": "code",
   "execution_count": 45,
   "id": "69c8f6ad-0df5-4ca1-9890-bf977ed10fd0",
   "metadata": {},
   "outputs": [
    {
     "data": {
      "text/markdown": [
       "In the original ending of the series \"Never Have I Ever\", Devi chooses Paxton and they start dating, while Ben is left alone after having shared a passionate kiss with Devi. She also reconciles with her mother and her cousin, and the family attends a Hindu prayer ceremony together.\n",
       "\n",
       "Alternative Ending:\n",
       "\n",
       "In our alternative ending, Devi is still stuck in a love triangle. But this time, after spending time with both Ben and Paxton, she realizes that she doesn't need to rely on a relationship to validate her happiness or personal growth. She decides to spend her junior year focusing on herself, navigating her multifaceted identity as an Indian-American teenager, and maintaining her relationships with her family and friends. \n",
       "\n",
       "On the romantic angle, she talks openly with both Paxton and Ben, explaining her reasons and keeping an open, friendly relationship with both. Paxton, growing from his relationship with Devi, focuses more on studies and actually seeks Ben’s help for that. Ben, understanding Devi’s sentiment, respects her decision and the three form an unlikely but supportive friendship.\n",
       "\n",
       "On the family front, she acknowledges her cousin Kamala’s advice about love and life, making their bond stronger. She also has a heart-to-heart conversation with her mother, through which they both agree to respect each other's boundaries more and understand each other's feelings better.\n",
       "\n",
       "As for her friend, Fabiola, instead of pushing away her mother because of her overenthusiasm about Fabiola’s sexuality, invites her to a robotics competition where Fabiola’s robot wins the first place.\n",
       "\n",
       "In the final scene, Devi and her family, along with Fabiola and Eleanor, light a lamp on the beach in memory of her father, signifying letting go of the past and embracing the future. Other friends like Paxton, Ben, and Eve join them, portraying one happy extended family, bringing a heartwarming twist to Devi’s earlier solitary grief.\n",
       "\n",
       "This alternative ending lets the viewers see Devi's growth as a character, showing her becoming more understanding and self-reliant while maintaining her humorous and fiery personality."
      ],
      "text/plain": [
       "<IPython.core.display.Markdown object>"
      ]
     },
     "metadata": {},
     "output_type": "display_data"
    }
   ],
   "source": [
    "display(Markdown(NHIE))"
   ]
  },
  {
   "cell_type": "markdown",
   "id": "7f06db7d-ff88-4615-8137-e22225d47625",
   "metadata": {},
   "source": [
    "## Reflection\n",
    "\n",
    "On a scale of 1 to 10, I would give this ending a 2 just to be generous. In addition to alternative ending writing, it is important to understand the basis and background of the show so you don't accidentally end up writing about fighting aliens or something when it's supposed to be a drama. ChatGpt misses the mark even before they start writing the alternative ending. In the original ending she never chose Paxton, she spends the night at Ben's confirming their relationship, and she goes off to college. \n",
    "\n",
    "Aside from this initial misinterpretation, I think the rest of the story is very sub par. I think it was nice to see her honor her father one more time as the series ends here, but i feel like this end is very understimulating and doesn't really match with the rest of the show, as the show was extremely dramatic. That's also why I don't really buy the ending to how it decides to resolve the triangle either. I actually enjoy its original ending way better. It actually wraps up everything properly with no loose ends. We also get to see Devi's full growth, better than how Chat GPT claims to do in its interpretation"
   ]
  }
 ],
 "metadata": {
  "kernelspec": {
   "display_name": "Python 3-12 (COMM4190)",
   "language": "python",
   "name": "python3-12_comm4190"
  },
  "language_info": {
   "codemirror_mode": {
    "name": "ipython",
    "version": 3
   },
   "file_extension": ".py",
   "mimetype": "text/x-python",
   "name": "python",
   "nbconvert_exporter": "python",
   "pygments_lexer": "ipython3",
   "version": "3.12.8"
  }
 },
 "nbformat": 4,
 "nbformat_minor": 5
}
