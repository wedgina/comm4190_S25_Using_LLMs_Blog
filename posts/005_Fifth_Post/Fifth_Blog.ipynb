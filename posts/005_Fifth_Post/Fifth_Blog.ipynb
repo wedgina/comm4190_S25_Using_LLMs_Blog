{
 "cells": [
  {
   "cell_type": "markdown",
   "id": "709fc4e0-ef5d-4130-8bbb-19531d1e3f1a",
   "metadata": {},
   "source": [
    "---\n",
    "title: Can AI write better scripts than we can? \n",
    "description: Asking AI to create endings to my favorite shows\n",
    "author: \"Wedgina Norelus\"\n",
    "date: 2/19/2025\n",
    "categories:\n",
    "  - LLMs\n",
    "  - Creativity\n",
    "  - Television\n",
    "---"
   ]
  },
  {
   "cell_type": "markdown",
   "id": "316652f3-2422-4862-95ca-1cf7814b7217",
   "metadata": {},
   "source": [
    "# Testing AI On Its Storytelling"
   ]
  },
  {
   "cell_type": "code",
   "execution_count": 1,
   "id": "95347e89-3d79-4b76-86cc-9270c175c301",
   "metadata": {},
   "outputs": [],
   "source": [
    "from langchain_core.prompts.chat import ChatPromptTemplate\n",
    "from langchain_core.runnables import (\n",
    "                                        RunnablePassthrough,\n",
    "                                        RunnableLambda,\n",
    "                                        RunnableParallel\n",
    ")\n",
    "\n",
    "from langchain_openai.chat_models import ChatOpenAI\n",
    "from langchain_core.output_parsers import StrOutputParser\n",
    "\n",
    "\n",
    "from operator import itemgetter\n",
    "\n",
    "from dotenv import load_dotenv\n",
    "import os"
   ]
  },
  {
   "cell_type": "code",
   "execution_count": 2,
   "id": "9b118883-074e-4a78-b31c-5ba368ec51ca",
   "metadata": {},
   "outputs": [],
   "source": [
    "# Load API key\n",
    "_ = load_dotenv()"
   ]
  },
  {
   "cell_type": "code",
   "execution_count": 22,
   "id": "08ec77ba-6075-4155-9eae-7d16a177c409",
   "metadata": {},
   "outputs": [],
   "source": [
    "plot_generation_prompt = ChatPromptTemplate.from_template(\n",
    "    \"\"\"Given the following show, create an effective\n",
    "    ending for how it should end:\n",
    "    ---\n",
    "    Show: {Show}\n",
    "    ---\n",
    "    Ending: \"\"\"\n",
    "    )\n",
    "\n",
    "plot_alternative_ending_prompt = ChatPromptTemplate.from_template(\n",
    "    \"\"\"Given the following show, create an effective alternative\n",
    "    ending to how the last episode actually ended:\n",
    "    ---\n",
    "    Show: {Show}\n",
    "    ---\n",
    "    AlternativeEnding: \"\"\"\n",
    "    )\n"
   ]
  },
  {
   "cell_type": "code",
   "execution_count": 27,
   "id": "5499de81-d538-42d6-a20c-8059955b90fc",
   "metadata": {},
   "outputs": [],
   "source": [
    "# Create the chat model:\n",
    "model = ChatOpenAI(model_name=\"gpt-4\")\n",
    "\n",
    "# Create the sub-chains:\n",
    "\n",
    "plot_generation_chain = ( plot_generation_prompt\n",
    "| model\n",
    "| StrOutputParser() )\n",
    "\n",
    "plot_alternative_ending_chain = ( plot_alternative_ending_prompt\n",
    "| model\n",
    "| StrOutputParser() )\n"
   ]
  },
  {
   "cell_type": "code",
   "execution_count": 29,
   "id": "0dc5af54-bc75-4e68-be9f-13821c6c58ec",
   "metadata": {},
   "outputs": [],
   "source": [
    "stranger_things_ending = plot_generation_chain.invoke({'Show': 'Stranger Things'})\n",
    "manifest_alternative = plot_alternative_ending_chain.invoke({'Show': 'Manifest'})"
   ]
  },
  {
   "cell_type": "code",
   "execution_count": 30,
   "id": "39d0d41c-32bb-4ee2-8239-fa8c11ab5fe2",
   "metadata": {},
   "outputs": [],
   "source": [
    "cobra_kai_alternative = plot_alternative_ending_chain.invoke({'Show': 'Cobra Kai'})"
   ]
  },
  {
   "cell_type": "code",
   "execution_count": 31,
   "id": "d6184f3a-f24d-4d4b-94d5-87f62e6ffc3d",
   "metadata": {},
   "outputs": [
    {
     "name": "stdout",
     "output_type": "stream",
     "text": [
      "In a final battle against the Mind Flayer, Eleven uses all her strength, channeling both physical and mental abilities. This time, all the main characters join in, even those who were typically non-combatants, providing support both practically and emotionally.\n",
      "\n",
      "In a decisive moment, Eleven is almost overcome by the Mind Flayer. Mike, realizing that Eleven's powers are driven by her emotions, steps forward and confesses his love for her. This emotional outpouring gives Eleven the strength to definitively destroy the Mind Flayer and close the upside-down world forever.\n",
      "\n",
      "In the aftermath, the Department of Energy is held accountable for Hawkins Lab's experiments, prompting investigations and providing closure to the affected families. The Russian interference in Hawkins also gets exposed, leading to political tension.\n",
      "\n",
      "Because of all this, Hawkins becomes the focus of national attention, prompting the core characters to decide to move away in order to find a peaceful life elsewhere. The last scene shows them driving off, leaving Hawkins behind.\n",
      "\n",
      "In a mid-credit scene, a short clip shows a classroom in a different town where the new student is called – \"Eleven,\" she smiles. Meanwhile, in another scene, Dustin finally manages to contact his girlfriend Suzie over the radio and they sing their infamous 'Never-ending Story' song, signifying a hopeful fresh start. This ties together loose ends while leaving the potential for a spin-off series or a sequel.\n"
     ]
    }
   ],
   "source": [
    "print(stranger_things_ending)"
   ]
  },
  {
   "cell_type": "code",
   "execution_count": 33,
   "id": "acb1e024-cdfe-483d-9fb7-8955ae3b820d",
   "metadata": {},
   "outputs": [
    {
     "name": "stdout",
     "output_type": "stream",
     "text": [
      "Instead of following the original ending where the story leaves various character’s fates ambiguous after the reappearing of Montego Air Flight 828, this alternative ending reveals more.\n",
      "\n",
      "As tensions mount under the increasing pressure of the prophetic 'death date', passengers of flight 828 decided to take the matter into their own hands. They rally together, gathering all the knowledge, expertise, and experiences they've collected since returning. Ben Stone leads the team, aided by his sister Michaela and brother-in-law Zeke, who beat his death date in the original series, convince him it can be beaten. They develop a theory that their shared explosive vision of the plane is the key to understanding their newfound abilities and the ultimate tool to beating the death date.\n",
      "\n",
      "A chemistry professor from the flight 828, takes his chance to analyze the visions, using it alongside scientific principles to detect a pattern. The passengers agree to let their brains be examined while they experience the visions, realizing that whenever the vision occurs, a specific part of their brain gets activated. Risking everything, they decide to artificially stimulate this brain region, hoping to understand its function better.\n",
      "\n",
      "Meanwhile, Saanvi and Adrian have been working on deciphering the origins of the DNA anomaly found in the passengers. Their research leads them to a groundbreaking discovery: the anomaly is not a mutation but a highly advanced form of gene therapy designed to activate latent psychic abilities in humans.\n",
      "\n",
      "This shocking revelation motivates the group even further. They eventually discover a means to control their abilities actively and use them to see beyond their personal death date in time. It’s like they’ve hacked their visions to see what they need and would like.\n",
      "\n",
      "In this moment of triumph, the story takes another surprising turn. The day everyone has been dreading arrives, their death date. However, they don’t find death but become aware of a new calling, a new vision leading them to a hidden, unknown location. The disappearance of flight 828 passengers repeats, only this time it’s not an accident. They all decided to embark on a new journey filled with countless possibilities leaving behind a world that pretty much gave up on them twice. \n",
      "\n",
      "The show ends with a sense of hope for the passengers and their loved ones, while leaving behind a world puzzled by the true nature and purpose of Montego Air Flight 828.\n"
     ]
    }
   ],
   "source": [
    "print(manifest_alternative)"
   ]
  },
  {
   "cell_type": "code",
   "execution_count": 32,
   "id": "f9f043c8-e93c-4f90-9ca6-4b204e2798eb",
   "metadata": {},
   "outputs": [
    {
     "name": "stdout",
     "output_type": "stream",
     "text": [
      "In the final tournament, Johnny Lawrence's Cobra Kai and Daniel LaRusso's Miyagi-Do face off once again. The pupils of both dojos fight spiritedly, ensuring both Dojos are evenly garnishing points. The deciding match comes down to Miguel Diaz, who is fighting for Cobra Kai, and Robby Keene, fighting for Miyagi-Do.\n",
      "\n",
      "Just as it looks like Miguel has the upper hand, time stops as he has vivid flashbacks of when he was severely injured during a previous fight which left him comatose. The match resumes. It's intense, mirroring the inherent tension between Johnny and Daniel from their youth, but Miguel loses focus, giving Robby the opportunity to win. But, in an unexpected twist, Robby opts not to exploit Miguel's vulnerability, demonstrating the teaching of his Sensei, Daniel LaRusso: \"It is about being better than you were yesterday.\"\n",
      "\n",
      "Robby helps Miguel back to his feet, and the match resumes. After a long hard-fought battle from both sides, Miguel manages to win, but with the understanding that the real victory is not about defeating the opponent, but overcoming their own fears. \n",
      "\n",
      "Meanwhile, Johnny and Daniel who are watching the fight, reflect upon the past and realize that it’s time to bury their old grudges. The series ends with a renewed hope for reconciliation between the two rivals and the possibility of them combining their dojo's to create a hybrid of their teachings, striving for balance and harmony, and moving forward for the betterment of their students.\n"
     ]
    }
   ],
   "source": [
    "print(cobra_kai_alternative)"
   ]
  },
  {
   "cell_type": "code",
   "execution_count": null,
   "id": "3f64db7b-2034-404d-bbf2-944337b8c8c5",
   "metadata": {},
   "outputs": [],
   "source": [
    "qfoepqwifo"
   ]
  }
 ],
 "metadata": {
  "kernelspec": {
   "display_name": "Python 3-12 (COMM4190)",
   "language": "python",
   "name": "python3-12_comm4190"
  },
  "language_info": {
   "codemirror_mode": {
    "name": "ipython",
    "version": 3
   },
   "file_extension": ".py",
   "mimetype": "text/x-python",
   "name": "python",
   "nbconvert_exporter": "python",
   "pygments_lexer": "ipython3",
   "version": "3.12.8"
  }
 },
 "nbformat": 4,
 "nbformat_minor": 5
}
